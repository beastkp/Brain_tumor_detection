{
  "cells": [
    {
      "cell_type": "markdown",
      "metadata": {
        "id": "view-in-github",
        "colab_type": "text"
      },
      "source": [
        "<a href=\"https://colab.research.google.com/github/beastkp/Brain_tumor_detection/blob/main/brain_tumor.ipynb\" target=\"_parent\"><img src=\"https://colab.research.google.com/assets/colab-badge.svg\" alt=\"Open In Colab\"/></a>"
      ]
    },
    {
      "cell_type": "code",
      "execution_count": null,
      "metadata": {
        "id": "lA4Ore5lV2Mj"
      },
      "outputs": [],
      "source": [
        "from google.colab import drive\n",
        "drive.flush_and_unmount()\n"
      ]
    },
    {
      "cell_type": "code",
      "execution_count": 1,
      "metadata": {
        "colab": {
          "base_uri": "https://localhost:8080/"
        },
        "id": "HrdRvRimzrXD",
        "outputId": "f327a810-6ef7-491a-9437-f8e0ba069000"
      },
      "outputs": [
        {
          "output_type": "stream",
          "name": "stdout",
          "text": [
            "Mounted at /content/drive\n"
          ]
        }
      ],
      "source": [
        "from google.colab import drive\n",
        "drive.mount('/content/drive')"
      ]
    },
    {
      "cell_type": "code",
      "execution_count": null,
      "metadata": {
        "colab": {
          "base_uri": "https://localhost:8080/"
        },
        "id": "tGN8yqhw5cJI",
        "outputId": "02185594-2e05-45ce-e787-e117721c36c4"
      },
      "outputs": [
        {
          "name": "stdout",
          "output_type": "stream",
          "text": [
            "unzip:  cannot find or open /content/drive/My Drive/outer_folder.zip, /content/drive/My Drive/outer_folder.zip.zip or /content/drive/My Drive/outer_folder.zip.ZIP.\n"
          ]
        }
      ],
      "source": [
        "!unzip \"/content/drive/My Drive/outer_folder.zip\" -d \"/content/drive/My Drive/\""
      ]
    },
    {
      "cell_type": "code",
      "execution_count": 2,
      "metadata": {
        "id": "g_J7ZmAtJ5bK"
      },
      "outputs": [],
      "source": [
        "import numpy as np\n",
        "import pandas as pd\n",
        "import matplotlib.pyplot as plt\n",
        "from sklearn.model_selection import train_test_split\n",
        "from sklearn.metrics import accuracy_score"
      ]
    },
    {
      "cell_type": "code",
      "execution_count": null,
      "metadata": {
        "colab": {
          "base_uri": "https://localhost:8080/"
        },
        "id": "Wk79MuwHVcci",
        "outputId": "9715594c-e366-418f-decb-792f50d0f036"
      },
      "outputs": [
        {
          "name": "stdout",
          "output_type": "stream",
          "text": [
            "Drive already mounted at /content/drive; to attempt to forcibly remount, call drive.mount(\"/content/drive\", force_remount=True).\n"
          ]
        }
      ],
      "source": [
        "from google.colab import drive\n",
        "drive.mount('/content/drive')"
      ]
    },
    {
      "cell_type": "code",
      "execution_count": 4,
      "metadata": {
        "id": "jFTirZAMJ_LS"
      },
      "outputs": [],
      "source": [
        "import os\n",
        "\n",
        "path = os.listdir('/content/drive/MyDrive/data/train/')\n",
        "classes = {'Glioma':0, 'Pituitary_tumor':1, 'Meningioma': 2}"
      ]
    },
    {
      "cell_type": "code",
      "execution_count": 5,
      "metadata": {
        "id": "QmcA3yjOKG3l"
      },
      "outputs": [],
      "source": [
        "# !pip install opencv-python\n",
        "import cv2\n",
        "X = []\n",
        "Y = []\n",
        "for cls in classes:\n",
        "    pth = '/content/drive/MyDrive/data/train/'+cls\n",
        "    for j in os.listdir(pth):\n",
        "        img = cv2.imread(pth+'/'+j, 0)\n",
        "        img = cv2.resize(img, (200,200))\n",
        "        X.append(img)\n",
        "        Y.append(classes[cls])"
      ]
    },
    {
      "cell_type": "code",
      "execution_count": 6,
      "metadata": {
        "colab": {
          "base_uri": "https://localhost:8080/"
        },
        "id": "8hjyWUQuKgH0",
        "outputId": "1eaed690-3f55-4e7b-9950-9edaeb9df95a"
      },
      "outputs": [
        {
          "output_type": "execute_result",
          "data": {
            "text/plain": [
              "array([0, 1, 2])"
            ]
          },
          "metadata": {},
          "execution_count": 6
        }
      ],
      "source": [
        "X = np.array(X)\n",
        "Y = np.array(Y)\n",
        "\n",
        "X_updated = X.reshape(len(X), -1)\n",
        "\n",
        "np.unique(Y)"
      ]
    },
    {
      "cell_type": "code",
      "execution_count": 7,
      "metadata": {
        "colab": {
          "base_uri": "https://localhost:8080/"
        },
        "id": "yWmVePnYKjtc",
        "outputId": "fe6dfb1a-00a6-4e80-faf9-6082b224a860"
      },
      "outputs": [
        {
          "output_type": "execute_result",
          "data": {
            "text/plain": [
              "0    6301\n",
              "1    6146\n",
              "2    5951\n",
              "dtype: int64"
            ]
          },
          "metadata": {},
          "execution_count": 7
        }
      ],
      "source": [
        "pd.Series(Y).value_counts()"
      ]
    },
    {
      "cell_type": "code",
      "execution_count": 8,
      "metadata": {
        "colab": {
          "base_uri": "https://localhost:8080/"
        },
        "id": "sKqhD8tKK-Ip",
        "outputId": "74b65c58-1127-411d-9363-88abe24381b3"
      },
      "outputs": [
        {
          "output_type": "execute_result",
          "data": {
            "text/plain": [
              "((18398, 200, 200), (18398, 40000))"
            ]
          },
          "metadata": {},
          "execution_count": 8
        }
      ],
      "source": [
        "X.shape, X_updated.shape"
      ]
    },
    {
      "cell_type": "code",
      "execution_count": 9,
      "metadata": {
        "colab": {
          "base_uri": "https://localhost:8080/",
          "height": 286
        },
        "id": "nZC3GSuXK_6O",
        "outputId": "a8d4f23f-26a3-491c-8678-d6f26f8ee2a5"
      },
      "outputs": [
        {
          "output_type": "execute_result",
          "data": {
            "text/plain": [
              "<matplotlib.image.AxesImage at 0x7fe1ec034b80>"
            ]
          },
          "metadata": {},
          "execution_count": 9
        },
        {
          "output_type": "display_data",
          "data": {
            "text/plain": [
              "<Figure size 432x288 with 1 Axes>"
            ],
            "image/png": "[encoded data removed]"
          },
          "metadata": {
            "needs_background": "light"
          }
        }
      ],
      "source": [
        "plt.imshow(X[0], cmap='gray')"
      ]
    },
    {
      "cell_type": "code",
      "execution_count": 10,
      "metadata": {
        "colab": {
          "base_uri": "https://localhost:8080/"
        },
        "id": "JQU2dWswLBp3",
        "outputId": "4a42abe0-2af8-48a0-eb92-36823b587d1f"
      },
      "outputs": [
        {
          "output_type": "execute_result",
          "data": {
            "text/plain": [
              "(18398, 40000)"
            ]
          },
          "metadata": {},
          "execution_count": 10
        }
      ],
      "source": [
        "X_updated = X.reshape(len(X), -1)\n",
        "X_updated.shape"
      ]
    },
    {
      "cell_type": "code",
      "execution_count": 11,
      "metadata": {
        "id": "V9lIo4D0LC_4"
      },
      "outputs": [],
      "source": [
        "xtrain, xtest, ytrain, ytest = train_test_split(X_updated, Y, random_state=10,\n",
        "                                               test_size=.20)"
      ]
    },
    {
      "cell_type": "code",
      "execution_count": 12,
      "metadata": {
        "colab": {
          "base_uri": "https://localhost:8080/"
        },
        "id": "mdYyo7wNLE3q",
        "outputId": "4aa88dfe-aebb-42d7-f6e9-8e271a970404"
      },
      "outputs": [
        {
          "output_type": "execute_result",
          "data": {
            "text/plain": [
              "((14718, 40000), (3680, 40000))"
            ]
          },
          "metadata": {},
          "execution_count": 12
        }
      ],
      "source": [
        "xtrain.shape, xtest.shape"
      ]
    },
    {
      "cell_type": "code",
      "execution_count": 13,
      "metadata": {
        "colab": {
          "base_uri": "https://localhost:8080/"
        },
        "id": "pC-_CdZHLG8f",
        "outputId": "ba17c17f-2290-4d03-e0ac-e7e41775e7f3"
      },
      "outputs": [
        {
          "output_type": "stream",
          "name": "stdout",
          "text": [
            "255 0\n",
            "255 0\n",
            "1.0 0.0\n",
            "1.0 0.0\n"
          ]
        }
      ],
      "source": [
        "print(xtrain.max(), xtrain.min())\n",
        "print(xtest.max(), xtest.min())\n",
        "xtrain = xtrain/255\n",
        "xtest = xtest/255\n",
        "print(xtrain.max(), xtrain.min())\n",
        "print(xtest.max(), xtest.min())"
      ]
    },
    {
      "cell_type": "code",
      "execution_count": 14,
      "metadata": {
        "id": "7pUogfJ8LIjY"
      },
      "outputs": [],
      "source": [
        "from sklearn.decomposition import PCA"
      ]
    },
    {
      "cell_type": "code",
      "execution_count": 15,
      "metadata": {
        "colab": {
          "base_uri": "https://localhost:8080/"
        },
        "id": "BSGkHot7LKaP",
        "outputId": "e1e4fa40-c1a1-400c-e052-b80673a16d49"
      },
      "outputs": [
        {
          "output_type": "stream",
          "name": "stdout",
          "text": [
            "(14718, 40000) (3680, 40000)\n"
          ]
        }
      ],
      "source": [
        "print(xtrain.shape, xtest.shape)\n",
        "\n",
        "pca = PCA(.98)\n",
        "# pca_train = pca.fit_transform(xtrain)\n",
        "# pca_test = pca.transform(xtest)\n",
        "pca_train = xtrain\n",
        "pca_test = xtest"
      ]
    },
    {
      "cell_type": "code",
      "execution_count": 16,
      "metadata": {
        "id": "aUG35cL0LNGJ"
      },
      "outputs": [],
      "source": [
        "from sklearn.linear_model import LogisticRegression"
      ]
    },
    {
      "cell_type": "code",
      "execution_count": 17,
      "metadata": {
        "colab": {
          "base_uri": "https://localhost:8080/",
          "height": 74
        },
        "id": "utE9vJk7LZAn",
        "outputId": "fa847267-8e15-4de5-fff4-92a31f656ff5"
      },
      "outputs": [
        {
          "output_type": "execute_result",
          "data": {
            "text/plain": [
              "LogisticRegression(C=0.1, multi_class='multinomial')"
            ],
            "text/html": [
              "<style>#sk-container-id-1 {color: black;background-color: white;}#sk-container-id-1 pre{padding: 0;}#sk-container-id-1 div.sk-toggleable {background-color: white;}#sk-container-id-1 label.sk-toggleable__label {cursor: pointer;display: block;width: 100%;margin-bottom: 0;padding: 0.3em;box-sizing: border-box;text-align: center;}#sk-container-id-1 label.sk-toggleable__label-arrow:before {content: \"▸\";float: left;margin-right: 0.25em;color: #696969;}#sk-container-id-1 label.sk-toggleable__label-arrow:hover:before {color: black;}#sk-container-id-1 div.sk-estimator:hover label.sk-toggleable__label-arrow:before {color: black;}#sk-container-id-1 div.sk-toggleable__content {max-height: 0;max-width: 0;overflow: hidden;text-align: left;background-color: #f0f8ff;}#sk-container-id-1 div.sk-toggleable__content pre {margin: 0.2em;color: black;border-radius: 0.25em;background-color: #f0f8ff;}#sk-container-id-1 input.sk-toggleable__control:checked~div.sk-toggleable__content {max-height: 200px;max-width: 100%;overflow: auto;}#sk-container-id-1 input.sk-toggleable__control:checked~label.sk-toggleable__label-arrow:before {content: \"▾\";}#sk-container-id-1 div.sk-estimator input.sk-toggleable__control:checked~label.sk-toggleable__label {background-color: #d4ebff;}#sk-container-id-1 div.sk-label input.sk-toggleable__control:checked~label.sk-toggleable__label {background-color: #d4ebff;}#sk-container-id-1 input.sk-hidden--visually {border: 0;clip: rect(1px 1px 1px 1px);clip: rect(1px, 1px, 1px, 1px);height: 1px;margin: -1px;overflow: hidden;padding: 0;position: absolute;width: 1px;}#sk-container-id-1 div.sk-estimator {font-family: monospace;background-color: #f0f8ff;border: 1px dotted black;border-radius: 0.25em;box-sizing: border-box;margin-bottom: 0.5em;}#sk-container-id-1 div.sk-estimator:hover {background-color: #d4ebff;}#sk-container-id-1 div.sk-parallel-item::after {content: \"\";width: 100%;border-bottom: 1px solid gray;flex-grow: 1;}#sk-container-id-1 div.sk-label:hover label.sk-toggleable__label {background-color: #d4ebff;}#sk-container-id-1 div.sk-serial::before {content: \"\";position: absolute;border-left: 1px solid gray;box-sizing: border-box;top: 0;bottom: 0;left: 50%;z-index: 0;}#sk-container-id-1 div.sk-serial {display: flex;flex-direction: column;align-items: center;background-color: white;padding-right: 0.2em;padding-left: 0.2em;position: relative;}#sk-container-id-1 div.sk-item {position: relative;z-index: 1;}#sk-container-id-1 div.sk-parallel {display: flex;align-items: stretch;justify-content: center;background-color: white;position: relative;}#sk-container-id-1 div.sk-item::before, #sk-container-id-1 div.sk-parallel-item::before {content: \"\";position: absolute;border-left: 1px solid gray;box-sizing: border-box;top: 0;bottom: 0;left: 50%;z-index: -1;}#sk-container-id-1 div.sk-parallel-item {display: flex;flex-direction: column;z-index: 1;position: relative;background-color: white;}#sk-container-id-1 div.sk-parallel-item:first-child::after {align-self: flex-end;width: 50%;}#sk-container-id-1 div.sk-parallel-item:last-child::after {align-self: flex-start;width: 50%;}#sk-container-id-1 div.sk-parallel-item:only-child::after {width: 0;}#sk-container-id-1 div.sk-dashed-wrapped {border: 1px dashed gray;margin: 0 0.4em 0.5em 0.4em;box-sizing: border-box;padding-bottom: 0.4em;background-color: white;}#sk-container-id-1 div.sk-label label {font-family: monospace;font-weight: bold;display: inline-block;line-height: 1.2em;}#sk-container-id-1 div.sk-label-container {text-align: center;}#sk-container-id-1 div.sk-container {/* jupyter's `normalize.less` sets `[hidden] { display: none; }` but bootstrap.min.css set `[hidden] { display: none !important; }` so we also need the `!important` here to be able to override the default hidden behavior on the sphinx rendered scikit-learn.org. See: https://github.com/scikit-learn/scikit-learn/issues/21755 */display: inline-block !important;position: relative;}#sk-container-id-1 div.sk-text-repr-fallback {display: none;}</style><div id=\"sk-container-id-1\" class=\"sk-top-container\"><div class=\"sk-text-repr-fallback\"><pre>LogisticRegression(C=0.1, multi_class=&#x27;multinomial&#x27;)</pre><b>In a Jupyter environment, please rerun this cell to show the HTML representation or trust the notebook. <br />On GitHub, the HTML representation is unable to render, please try loading this page with nbviewer.org.</b></div><div class=\"sk-container\" hidden><div class=\"sk-item\"><div class=\"sk-estimator sk-toggleable\"><input class=\"sk-toggleable__control sk-hidden--visually\" id=\"sk-estimator-id-1\" type=\"checkbox\" checked><label for=\"sk-estimator-id-1\" class=\"sk-toggleable__label sk-toggleable__label-arrow\">LogisticRegression</label><div class=\"sk-toggleable__content\"><pre>LogisticRegression(C=0.1, multi_class=&#x27;multinomial&#x27;)</pre></div></div></div></div></div>"
            ]
          },
          "metadata": {},
          "execution_count": 17
        }
      ],
      "source": [
        "import warnings\n",
        "warnings.filterwarnings('ignore')\n",
        "\n",
        "lg = LogisticRegression(multi_class='multinomial', solver='lbfgs', C=0.1)\n",
        "lg.fit(xtrain, ytrain)"
      ]
    },
    {
      "cell_type": "code",
      "execution_count": 18,
      "metadata": {
        "colab": {
          "base_uri": "https://localhost:8080/"
        },
        "id": "rGgFHXj6LbJa",
        "outputId": "0a697c68-dc61-44fa-b76d-af9dbe5c14d0"
      },
      "outputs": [
        {
          "output_type": "stream",
          "name": "stdout",
          "text": [
            "Training Score: 0.8879603206957467\n",
            "Testing Score: 0.8377717391304348\n"
          ]
        }
      ],
      "source": [
        "print(\"Training Score:\", lg.score(xtrain, ytrain))\n",
        "print(\"Testing Score:\", lg.score(xtest, ytest))"
      ]
    },
    {
      "cell_type": "code",
      "execution_count": 19,
      "metadata": {
        "colab": {
          "base_uri": "https://localhost:8080/",
          "height": 364
        },
        "id": "y9q9h43LM039",
        "outputId": "67f6de9a-eb54-4368-b11e-cfed7facf3c9"
      },
      "outputs": [
        {
          "output_type": "display_data",
          "data": {
            "text/plain": [
              "<Figure size 360x288 with 2 Axes>"
            ],
            "image/png": "[encoded data removed]"
          },
          "metadata": {
            "needs_background": "light"
          }
        },
        {
          "output_type": "stream",
          "name": "stdout",
          "text": [
            "Confusion Matrix:\n",
            " [[1095   38  120]\n",
            " [  48 1138   53]\n",
            " [ 263   75  850]]\n"
          ]
        }
      ],
      "source": [
        "import seaborn as sns\n",
        "from sklearn.metrics import confusion_matrix\n",
        "\n",
        "lg.predict(xtrain)\n",
        "#Testing the model using X_test and storing the output in y_pred\n",
        "y_pred = lg.predict(xtest)\n",
        "# Creating  a confusion matrix,which compares the y_test and y_pred\n",
        "cm = confusion_matrix(ytest, y_pred)\n",
        "# Creating a dataframe for a array-formatted Confusion matrix,so it will be easy for plotting.\n",
        "cm_df = pd.DataFrame(cm,\n",
        "                     index = ['Glioma','Pituitory tumor ','Meningioma'], \n",
        "                     columns = ['Glioma','Pituitory tumor ','Meningioma'])\n",
        "#Plotting the confusion matrix\n",
        "plt.figure(figsize=(5,4))\n",
        "sns.heatmap(cm_df, annot=True)\n",
        "plt.title('Confusion Matrix')\n",
        "plt.ylabel('Actal Values')\n",
        "plt.xlabel('Predicted Values')\n",
        "plt.show()\n",
        "print(\"Confusion Matrix:\\n\", cm)"
      ]
    },
    {
      "cell_type": "code",
      "execution_count": 20,
      "metadata": {
        "colab": {
          "base_uri": "https://localhost:8080/"
        },
        "id": "UWDsoNrtO_Ny",
        "outputId": "07236748-9b4d-4031-919a-232d5666b727"
      },
      "outputs": [
        {
          "output_type": "stream",
          "name": "stdout",
          "text": [
            "Accuracy: 0.8377717391304348\n",
            "Precision: 0.839788974555864\n",
            "Recall: 0.8359578321545307\n",
            "F1 Score: 0.8355189949338042\n"
          ]
        }
      ],
      "source": [
        "from sklearn.metrics import accuracy_score, precision_score, recall_score, f1_score, confusion_matrix\n",
        "\n",
        "# Predict the target values using the trained model\n",
        "y_pred = lg.predict(xtest)\n",
        "\n",
        "accuracy = accuracy_score(ytest, y_pred)\n",
        "precision = precision_score(ytest, y_pred, average='macro')\n",
        "recall = recall_score(ytest, y_pred, average='macro')\n",
        "f1 = f1_score(ytest, y_pred, average='macro')\n",
        "\n",
        "print(\"Accuracy:\", accuracy)\n",
        "print(\"Precision:\", precision)\n",
        "print(\"Recall:\", recall)\n",
        "print(\"F1 Score:\", f1)\n"
      ]
    },
    {
      "cell_type": "code",
      "execution_count": null,
      "metadata": {
        "id": "GWswVGPg-3Kp"
      },
      "outputs": [],
      "source": [
        "import shutil\n",
        "\n",
        "folder_path = '/content/drive/MyDrive/Testing/notumor'\n",
        "\n",
        "shutil.rmtree(folder_path)"
      ]
    },
    {
      "cell_type": "code",
      "execution_count": 21,
      "metadata": {
        "id": "xJ_ak0kgz5Ka"
      },
      "outputs": [],
      "source": [
        "import cv2\n",
        "X = []\n",
        "Y = []\n",
        "classes = {'Glioma':0, 'Pituitary_tumor':1, 'Meningioma': 2}\n",
        "for cls in classes:\n",
        "    pth = '/content/drive/MyDrive/Testing/'+cls\n",
        "    for j in os.listdir(pth):\n",
        "        img = cv2.imread(pth+'/'+j, 0)\n",
        "        img = cv2.resize(img, (200,200))\n",
        "        X.append(img)\n",
        "        Y.append(classes[cls])"
      ]
    },
    {
      "cell_type": "code",
      "execution_count": 22,
      "metadata": {
        "id": "_YtK4ZHF02QJ"
      },
      "outputs": [],
      "source": [
        "X = np.array(X)\n",
        "Y = np.array(Y)\n",
        "\n",
        "X_updated = X.reshape(len(X), -1)"
      ]
    },
    {
      "cell_type": "code",
      "execution_count": 23,
      "metadata": {
        "colab": {
          "base_uri": "https://localhost:8080/"
        },
        "id": "cXpHt09i1eyo",
        "outputId": "823339dc-e088-4983-df50-e85f5c04762f"
      },
      "outputs": [
        {
          "output_type": "stream",
          "name": "stdout",
          "text": [
            "255 0\n",
            "1.0 0.0\n"
          ]
        }
      ],
      "source": [
        "xtest = X_updated\n",
        "ytest = Y\n",
        "print(xtest.max(), xtest.min())\n",
        "xtest = xtest/255\n",
        "print(xtest.max(), xtest.min())"
      ]
    },
    {
      "cell_type": "code",
      "execution_count": 24,
      "metadata": {
        "id": "9BQikX9S17w_"
      },
      "outputs": [],
      "source": [
        "pca = PCA(.98)\n",
        "pca_test = xtest"
      ]
    },
    {
      "cell_type": "code",
      "execution_count": 25,
      "metadata": {
        "colab": {
          "base_uri": "https://localhost:8080/"
        },
        "id": "H5FaTMw72Dw3",
        "outputId": "ab1a6ca5-7600-4d72-cd79-60ff946e1e1b"
      },
      "outputs": [
        {
          "output_type": "stream",
          "name": "stdout",
          "text": [
            "Testing Score: 0.6023803740587806\n"
          ]
        }
      ],
      "source": [
        "print(\"Testing Score:\", lg.score(xtest, ytest))"
      ]
    },
    {
      "cell_type": "code",
      "execution_count": 26,
      "metadata": {
        "colab": {
          "base_uri": "https://localhost:8080/",
          "height": 364
        },
        "id": "byc2PAJ82y3O",
        "outputId": "0868a628-96b3-4a35-e586-e777ad31f3fa"
      },
      "outputs": [
        {
          "output_type": "display_data",
          "data": {
            "text/plain": [
              "<Figure size 360x288 with 2 Axes>"
            ],
            "image/png": "[encoded data removed]"
          },
          "metadata": {
            "needs_background": "light"
          }
        },
        {
          "output_type": "stream",
          "name": "stdout",
          "text": [
            "Confusion Matrix:\n",
            " [[   2  173 1146]\n",
            " [   3 1315  139]\n",
            " [  15  161 1163]]\n"
          ]
        }
      ],
      "source": [
        "import seaborn as sns\n",
        "\n",
        "lg.predict(xtrain)\n",
        "y_pred = lg.predict(xtest)\n",
        "cm = confusion_matrix(ytest, y_pred)\n",
        "# Creating a dataframe for a array-formatted Confusion matrix,so it will be easy for plotting.\n",
        "cm_df = pd.DataFrame(cm,\n",
        "                     index = ['Glioma','Pituitory tumor ','Meningioma'], \n",
        "                     columns = ['Glioma','Pituitory tumor ','Meningioma'])\n",
        "#Plotting the confusion matrix\n",
        "plt.figure(figsize=(5,4))\n",
        "sns.heatmap(cm_df, annot=True)\n",
        "plt.title('Confusion Matrix')\n",
        "plt.ylabel('Actal Values')\n",
        "plt.xlabel('Predicted Values')\n",
        "plt.show()\n",
        "print(\"Confusion Matrix:\\n\", cm)"
      ]
    },
    {
      "cell_type": "code",
      "execution_count": 27,
      "metadata": {
        "colab": {
          "base_uri": "https://localhost:8080/"
        },
        "id": "XZMLnCiZ2pKJ",
        "outputId": "05a7e418-e84e-47ee-9820-eb5815a7f09b"
      },
      "outputs": [
        {
          "output_type": "stream",
          "name": "stdout",
          "text": [
            "Accuracy: 0.6023803740587806\n",
            "Precision: 0.4575115670552299\n",
            "Recall: 0.5908706983451968\n",
            "F1 Score: 0.4879791912537414\n"
          ]
        }
      ],
      "source": [
        "from sklearn.metrics import accuracy_score, precision_score, recall_score, f1_score, confusion_matrix\n",
        "\n",
        "# Predict the target values using the trained model\n",
        "y_pred = lg.predict(xtest)\n",
        "accuracy = accuracy_score(ytest, y_pred)\n",
        "precision = precision_score(ytest, y_pred, average='macro')\n",
        "recall = recall_score(ytest, y_pred, average='macro')\n",
        "f1 = f1_score(ytest, y_pred, average='macro')\n",
        "\n",
        "print(\"Accuracy:\", accuracy)\n",
        "print(\"Precision:\", precision)\n",
        "print(\"Recall:\", recall)\n",
        "print(\"F1 Score:\", f1)\n"
      ]
    },
    {
      "cell_type": "code",
      "execution_count": null,
      "metadata": {
        "colab": {
          "base_uri": "https://localhost:8080/"
        },
        "id": "gNT2Xv2OQzjN",
        "outputId": "7b2ee585-1bdf-4f86-fbfb-537bac46e17f"
      },
      "outputs": [
        {
          "name": "stdout",
          "output_type": "stream",
          "text": [
            "Archive:  /content/Testing.zip\n",
            "   creating: /content/drive/My Drive/Testing/glioma/\n",
            "  inflating: /content/drive/My Drive/Testing/glioma/Te-gl_0010.jpg  \n",
            "  inflating: /content/drive/My Drive/Testing/glioma/Te-gl_0011.jpg  \n",
            "  inflating: /content/drive/My Drive/Testing/glioma/Te-gl_0012.jpg  \n",
            "  inflating: /content/drive/My Drive/Testing/glioma/Te-gl_0013.jpg  \n",
            "  inflating: /content/drive/My Drive/Testing/glioma/Te-gl_0014.jpg  \n",
            "  inflating: /content/drive/My Drive/Testing/glioma/Te-gl_0015.jpg  \n",
            "  inflating: /content/drive/My Drive/Testing/glioma/Te-gl_0016.jpg  \n",
            "  inflating: /content/drive/My Drive/Testing/glioma/Te-gl_0017.jpg  \n",
            "  inflating: /content/drive/My Drive/Testing/glioma/Te-gl_0018.jpg  \n",
            "  inflating: /content/drive/My Drive/Testing/glioma/Te-gl_0019.jpg  \n",
            "  inflating: /content/drive/My Drive/Testing/glioma/Te-gl_0020.jpg  \n",
            "  inflating: /content/drive/My Drive/Testing/glioma/Te-gl_0021.jpg  \n",
            "  inflating: /content/drive/My Drive/Testing/glioma/Te-gl_0022.jpg  \n",
            "  inflating: /content/drive/My Drive/Testing/glioma/Te-gl_0023.jpg  \n",
            "  inflating: /content/drive/My Drive/Testing/glioma/Te-gl_0024.jpg  \n",
            "  inflating: /content/drive/My Drive/Testing/glioma/Te-gl_0025.jpg  \n",
            "  inflating: /content/drive/My Drive/Testing/glioma/Te-gl_0026.jpg  \n",
            "  inflating: /content/drive/My Drive/Testing/glioma/Te-gl_0027.jpg  \n",
            "  inflating: /content/drive/My Drive/Testing/glioma/Te-gl_0028.jpg  \n",
            "  inflating: /content/drive/My Drive/Testing/glioma/Te-gl_0029.jpg  \n",
            "  inflating: /content/drive/My Drive/Testing/glioma/Te-gl_0030.jpg  \n",
            "  inflating: /content/drive/My Drive/Testing/glioma/Te-gl_0031.jpg  \n",
            "  inflating: /content/drive/My Drive/Testing/glioma/Te-gl_0032.jpg  \n",
            "  inflating: /content/drive/My Drive/Testing/glioma/Te-gl_0033.jpg  \n",
            "  inflating: /content/drive/My Drive/Testing/glioma/Te-gl_0034.jpg  \n",
            "  inflating: /content/drive/My Drive/Testing/glioma/Te-gl_0035.jpg  \n",
            "  inflating: /content/drive/My Drive/Testing/glioma/Te-gl_0036.jpg  \n",
            "  inflating: /content/drive/My Drive/Testing/glioma/Te-gl_0037.jpg  \n",
            "  inflating: /content/drive/My Drive/Testing/glioma/Te-gl_0038.jpg  \n",
            "  inflating: /content/drive/My Drive/Testing/glioma/Te-gl_0039.jpg  \n",
            "  inflating: /content/drive/My Drive/Testing/glioma/Te-gl_0040.jpg  \n",
            "  inflating: /content/drive/My Drive/Testing/glioma/Te-gl_0041.jpg  \n",
            "  inflating: /content/drive/My Drive/Testing/glioma/Te-gl_0042.jpg  \n",
            "  inflating: /content/drive/My Drive/Testing/glioma/Te-gl_0043.jpg  \n",
            "  inflating: /content/drive/My Drive/Testing/glioma/Te-gl_0044.jpg  \n",
            "  inflating: /content/drive/My Drive/Testing/glioma/Te-gl_0045.jpg  \n",
            "  inflating: /content/drive/My Drive/Testing/glioma/Te-gl_0046.jpg  \n",
            "  inflating: /content/drive/My Drive/Testing/glioma/Te-gl_0047.jpg  \n",
            "  inflating: /content/drive/My Drive/Testing/glioma/Te-gl_0048.jpg  \n",
            "  inflating: /content/drive/My Drive/Testing/glioma/Te-gl_0049.jpg  \n",
            "  inflating: /content/drive/My Drive/Testing/glioma/Te-gl_0050.jpg  \n",
            "  inflating: /content/drive/My Drive/Testing/glioma/Te-gl_0051.jpg  \n",
            "  inflating: /content/drive/My Drive/Testing/glioma/Te-gl_0052.jpg  \n",
            "  inflating: /content/drive/My Drive/Testing/glioma/Te-gl_0053.jpg  \n",
            "  inflating: /content/drive/My Drive/Testing/glioma/Te-gl_0054.jpg  \n",
            "  inflating: /content/drive/My Drive/Testing/glioma/Te-gl_0055.jpg  \n",
            "  inflating: /content/drive/My Drive/Testing/glioma/Te-gl_0056.jpg  \n",
            "  inflating: /content/drive/My Drive/Testing/glioma/Te-gl_0057.jpg  \n",
            "  inflating: /content/drive/My Drive/Testing/glioma/Te-gl_0058.jpg  \n",
            "  inflating: /content/drive/My Drive/Testing/glioma/Te-gl_0059.jpg  \n",
            "  inflating: /content/drive/My Drive/Testing/glioma/Te-gl_0060.jpg  \n",
            "  inflating: /content/drive/My Drive/Testing/glioma/Te-gl_0061.jpg  \n",
            "  inflating: /content/drive/My Drive/Testing/glioma/Te-gl_0062.jpg  \n",
            "  inflating: /content/drive/My Drive/Testing/glioma/Te-gl_0063.jpg  \n",
            "  inflating: /content/drive/My Drive/Testing/glioma/Te-gl_0064.jpg  \n",
            "  inflating: /content/drive/My Drive/Testing/glioma/Te-gl_0065.jpg  \n",
            "  inflating: /content/drive/My Drive/Testing/glioma/Te-gl_0066.jpg  \n",
            "  inflating: /content/drive/My Drive/Testing/glioma/Te-gl_0067.jpg  \n",
            "  inflating: /content/drive/My Drive/Testing/glioma/Te-gl_0068.jpg  \n",
            "  inflating: /content/drive/My Drive/Testing/glioma/Te-gl_0069.jpg  \n",
            "  inflating: /content/drive/My Drive/Testing/glioma/Te-gl_0070.jpg  \n",
            "  inflating: /content/drive/My Drive/Testing/glioma/Te-gl_0071.jpg  \n",
            "  inflating: /content/drive/My Drive/Testing/glioma/Te-gl_0072.jpg  \n",
            "  inflating: /content/drive/My Drive/Testing/glioma/Te-gl_0073.jpg  \n",
            "  inflating: /content/drive/My Drive/Testing/glioma/Te-gl_0074.jpg  \n",
            "  inflating: /content/drive/My Drive/Testing/glioma/Te-gl_0075.jpg  \n",
            "  inflating: /content/drive/My Drive/Testing/glioma/Te-gl_0076.jpg  \n",
            "  inflating: /content/drive/My Drive/Testing/glioma/Te-gl_0077.jpg  \n",
            "  inflating: /content/drive/My Drive/Testing/glioma/Te-gl_0078.jpg  \n",
            "  inflating: /content/drive/My Drive/Testing/glioma/Te-gl_0079.jpg  \n",
            "  inflating: /content/drive/My Drive/Testing/glioma/Te-gl_0080.jpg  \n",
            "  inflating: /content/drive/My Drive/Testing/glioma/Te-gl_0081.jpg  \n",
            "  inflating: /content/drive/My Drive/Testing/glioma/Te-gl_0082.jpg  \n",
            "  inflating: /content/drive/My Drive/Testing/glioma/Te-gl_0083.jpg  \n",
            "  inflating: /content/drive/My Drive/Testing/glioma/Te-gl_0084.jpg  \n",
            "  inflating: /content/drive/My Drive/Testing/glioma/Te-gl_0085.jpg  \n",
            "  inflating: /content/drive/My Drive/Testing/glioma/Te-gl_0086.jpg  \n",
            "  inflating: /content/drive/My Drive/Testing/glioma/Te-gl_0087.jpg  \n",
            "  inflating: /content/drive/My Drive/Testing/glioma/Te-gl_0088.jpg  \n",
            "  inflating: /content/drive/My Drive/Testing/glioma/Te-gl_0089.jpg  \n",
            "  inflating: /content/drive/My Drive/Testing/glioma/Te-gl_0090.jpg  \n",
            "  inflating: /content/drive/My Drive/Testing/glioma/Te-gl_0091.jpg  \n",
            "  inflating: /content/drive/My Drive/Testing/glioma/Te-gl_0092.jpg  \n",
            "  inflating: /content/drive/My Drive/Testing/glioma/Te-gl_0093.jpg  \n",
            "  inflating: /content/drive/My Drive/Testing/glioma/Te-gl_0094.jpg  \n",
            "  inflating: /content/drive/My Drive/Testing/glioma/Te-gl_0095.jpg  \n",
            "  inflating: /content/drive/My Drive/Testing/glioma/Te-gl_0096.jpg  \n",
            "  inflating: /content/drive/My Drive/Testing/glioma/Te-gl_0097.jpg  \n",
            "  inflating: /content/drive/My Drive/Testing/glioma/Te-gl_0098.jpg  \n",
            "  inflating: /content/drive/My Drive/Testing/glioma/Te-gl_0099.jpg  \n",
            "  inflating: /content/drive/My Drive/Testing/glioma/Te-gl_0100.jpg  \n",
            "  inflating: /content/drive/My Drive/Testing/glioma/Te-gl_0101.jpg  \n",
            "  inflating: /content/drive/My Drive/Testing/glioma/Te-gl_0102.jpg  \n",
            "  inflating: /content/drive/My Drive/Testing/glioma/Te-gl_0103.jpg  \n",
            "  inflating: /content/drive/My Drive/Testing/glioma/Te-gl_0104.jpg  \n",
            "  inflating: /content/drive/My Drive/Testing/glioma/Te-gl_0105.jpg  \n",
            "  inflating: /content/drive/My Drive/Testing/glioma/Te-gl_0106.jpg  \n",
            "  inflating: /content/drive/My Drive/Testing/glioma/Te-gl_0107.jpg  \n",
            "  inflating: /content/drive/My Drive/Testing/glioma/Te-gl_0108.jpg  \n",
            "  inflating: /content/drive/My Drive/Testing/glioma/Te-gl_0109.jpg  \n",
            "  inflating: /content/drive/My Drive/Testing/glioma/Te-gl_0110.jpg  \n",
            "  inflating: /content/drive/My Drive/Testing/glioma/Te-gl_0111.jpg  \n",
            "  inflating: /content/drive/My Drive/Testing/glioma/Te-gl_0112.jpg  \n",
            "  inflating: /content/drive/My Drive/Testing/glioma/Te-gl_0113.jpg  \n",
            "  inflating: /content/drive/My Drive/Testing/glioma/Te-gl_0114.jpg  \n",
            "  inflating: /content/drive/My Drive/Testing/glioma/Te-gl_0115.jpg  \n",
            "  inflating: /content/drive/My Drive/Testing/glioma/Te-gl_0116.jpg  \n",
            "  inflating: /content/drive/My Drive/Testing/glioma/Te-gl_0117.jpg  \n",
            "  inflating: /content/drive/My Drive/Testing/glioma/Te-gl_0118.jpg  \n",
            "  inflating: /content/drive/My Drive/Testing/glioma/Te-gl_0119.jpg  \n",
            "  inflating: /content/drive/My Drive/Testing/glioma/Te-gl_0120.jpg  \n",
            "  inflating: /content/drive/My Drive/Testing/glioma/Te-gl_0121.jpg  \n",
            "  inflating: /content/drive/My Drive/Testing/glioma/Te-gl_0122.jpg  \n",
            "  inflating: /content/drive/My Drive/Testing/glioma/Te-gl_0123.jpg  \n",
            "  inflating: /content/drive/My Drive/Testing/glioma/Te-gl_0124.jpg  \n",
            "  inflating: /content/drive/My Drive/Testing/glioma/Te-gl_0125.jpg  \n",
            "  inflating: /content/drive/My Drive/Testing/glioma/Te-gl_0126.jpg  \n",
            "  inflating: /content/drive/My Drive/Testing/glioma/Te-gl_0127.jpg  \n",
            "  inflating: /content/drive/My Drive/Testing/glioma/Te-gl_0128.jpg  \n",
            "  inflating: /content/drive/My Drive/Testing/glioma/Te-gl_0129.jpg  \n",
            "  inflating: /content/drive/My Drive/Testing/glioma/Te-gl_0130.jpg  \n",
            "  inflating: /content/drive/My Drive/Testing/glioma/Te-gl_0131.jpg  \n",
            "  inflating: /content/drive/My Drive/Testing/glioma/Te-gl_0132.jpg  \n",
            "  inflating: /content/drive/My Drive/Testing/glioma/Te-gl_0133.jpg  \n",
            "  inflating: /content/drive/My Drive/Testing/glioma/Te-gl_0134.jpg  \n",
            "  inflating: /content/drive/My Drive/Testing/glioma/Te-gl_0135.jpg  \n",
            "  inflating: /content/drive/My Drive/Testing/glioma/Te-gl_0136.jpg  \n",
            "  inflating: /content/drive/My Drive/Testing/glioma/Te-gl_0137.jpg  \n",
            "  inflating: /content/drive/My Drive/Testing/glioma/Te-gl_0138.jpg  \n",
            "  inflating: /content/drive/My Drive/Testing/glioma/Te-gl_0139.jpg  \n",
            "  inflating: /content/drive/My Drive/Testing/glioma/Te-gl_0140.jpg  \n",
            "  inflating: /content/drive/My Drive/Testing/glioma/Te-gl_0141.jpg  \n",
            "  inflating: /content/drive/My Drive/Testing/glioma/Te-gl_0142.jpg  \n",
            "  inflating: /content/drive/My Drive/Testing/glioma/Te-gl_0143.jpg  \n",
            "  inflating: /content/drive/My Drive/Testing/glioma/Te-gl_0144.jpg  \n",
            "  inflating: /content/drive/My Drive/Testing/glioma/Te-gl_0145.jpg  \n",
            "  inflating: /content/drive/My Drive/Testing/glioma/Te-gl_0146.jpg  \n",
            "  inflating: /content/drive/My Drive/Testing/glioma/Te-gl_0147.jpg  \n",
            "  inflating: /content/drive/My Drive/Testing/glioma/Te-gl_0148.jpg  \n",
            "  inflating: /content/drive/My Drive/Testing/glioma/Te-gl_0149.jpg  \n",
            "  inflating: /content/drive/My Drive/Testing/glioma/Te-gl_0150.jpg  \n",
            "  inflating: /content/drive/My Drive/Testing/glioma/Te-gl_0151.jpg  \n",
            "  inflating: /content/drive/My Drive/Testing/glioma/Te-gl_0152.jpg  \n",
            "  inflating: /content/drive/My Drive/Testing/glioma/Te-gl_0153.jpg  \n",
            "  inflating: /content/drive/My Drive/Testing/glioma/Te-gl_0154.jpg  \n",
            "  inflating: /content/drive/My Drive/Testing/glioma/Te-gl_0155.jpg  \n",
            "  inflating: /content/drive/My Drive/Testing/glioma/Te-gl_0156.jpg  \n",
            "  inflating: /content/drive/My Drive/Testing/glioma/Te-gl_0157.jpg  \n",
            "  inflating: /content/drive/My Drive/Testing/glioma/Te-gl_0158.jpg  \n",
            "  inflating: /content/drive/My Drive/Testing/glioma/Te-gl_0159.jpg  \n",
            "  inflating: /content/drive/My Drive/Testing/glioma/Te-gl_0160.jpg  \n",
            "  inflating: /content/drive/My Drive/Testing/glioma/Te-gl_0161.jpg  \n",
            "  inflating: /content/drive/My Drive/Testing/glioma/Te-gl_0162.jpg  \n",
            "  inflating: /content/drive/My Drive/Testing/glioma/Te-gl_0163.jpg  \n",
            "  inflating: /content/drive/My Drive/Testing/glioma/Te-gl_0164.jpg  \n",
            "  inflating: /content/drive/My Drive/Testing/glioma/Te-gl_0165.jpg  \n",
            "  inflating: /content/drive/My Drive/Testing/glioma/Te-gl_0166.jpg  \n",
            "  inflating: /content/drive/My Drive/Testing/glioma/Te-gl_0167.jpg  \n",
            "  inflating: /content/drive/My Drive/Testing/glioma/Te-gl_0168.jpg  \n",
            "  inflating: /content/drive/My Drive/Testing/glioma/Te-gl_0169.jpg  \n",
            "  inflating: /content/drive/My Drive/Testing/glioma/Te-gl_0170.jpg  \n",
            "  inflating: /content/drive/My Drive/Testing/glioma/Te-gl_0171.jpg  \n",
            "  inflating: /content/drive/My Drive/Testing/glioma/Te-gl_0172.jpg  \n",
            "  inflating: /content/drive/My Drive/Testing/glioma/Te-gl_0173.jpg  \n",
            "  inflating: /content/drive/My Drive/Testing/glioma/Te-gl_0174.jpg  \n",
            "  inflating: /content/drive/My Drive/Testing/glioma/Te-gl_0175.jpg  \n",
            "  inflating: /content/drive/My Drive/Testing/glioma/Te-gl_0176.jpg  \n",
            "  inflating: /content/drive/My Drive/Testing/glioma/Te-gl_0177.jpg  \n",
            "  inflating: /content/drive/My Drive/Testing/glioma/Te-gl_0178.jpg  \n",
            "  inflating: /content/drive/My Drive/Testing/glioma/Te-gl_0179.jpg  \n",
            "  inflating: /content/drive/My Drive/Testing/glioma/Te-gl_0180.jpg  \n",
            "  inflating: /content/drive/My Drive/Testing/glioma/Te-gl_0181.jpg  \n",
            "  inflating: /content/drive/My Drive/Testing/glioma/Te-gl_0182.jpg  \n",
            "  inflating: /content/drive/My Drive/Testing/glioma/Te-gl_0183.jpg  \n",
            "  inflating: /content/drive/My Drive/Testing/glioma/Te-gl_0184.jpg  \n",
            "  inflating: /content/drive/My Drive/Testing/glioma/Te-gl_0185.jpg  \n",
            "  inflating: /content/drive/My Drive/Testing/glioma/Te-gl_0186.jpg  \n",
            "  inflating: /content/drive/My Drive/Testing/glioma/Te-gl_0187.jpg  \n",
            "  inflating: /content/drive/My Drive/Testing/glioma/Te-gl_0188.jpg  \n",
            "  inflating: /content/drive/My Drive/Testing/glioma/Te-gl_0189.jpg  \n",
            "  inflating: /content/drive/My Drive/Testing/glioma/Te-gl_0190.jpg  \n",
            "  inflating: /content/drive/My Drive/Testing/glioma/Te-gl_0191.jpg  \n",
            "  inflating: /content/drive/My Drive/Testing/glioma/Te-gl_0192.jpg  \n",
            "  inflating: /content/drive/My Drive/Testing/glioma/Te-gl_0193.jpg  \n",
            "  inflating: /content/drive/My Drive/Testing/glioma/Te-gl_0194.jpg  \n",
            "  inflating: /content/drive/My Drive/Testing/glioma/Te-gl_0195.jpg  \n",
            "  inflating: /content/drive/My Drive/Testing/glioma/Te-gl_0196.jpg  \n",
            "  inflating: /content/drive/My Drive/Testing/glioma/Te-gl_0197.jpg  \n",
            "  inflating: /content/drive/My Drive/Testing/glioma/Te-gl_0198.jpg  \n",
            "  inflating: /content/drive/My Drive/Testing/glioma/Te-gl_0199.jpg  \n",
            "  inflating: /content/drive/My Drive/Testing/glioma/Te-gl_0200.jpg  \n",
            "  inflating: /content/drive/My Drive/Testing/glioma/Te-gl_0201.jpg  \n",
            "  inflating: /content/drive/My Drive/Testing/glioma/Te-gl_0202.jpg  \n",
            "  inflating: /content/drive/My Drive/Testing/glioma/Te-gl_0203.jpg  \n",
            "  inflating: /content/drive/My Drive/Testing/glioma/Te-gl_0204.jpg  \n",
            "  inflating: /content/drive/My Drive/Testing/glioma/Te-gl_0205.jpg  \n",
            "  inflating: /content/drive/My Drive/Testing/glioma/Te-gl_0206.jpg  \n",
            "  inflating: /content/drive/My Drive/Testing/glioma/Te-gl_0207.jpg  \n",
            "  inflating: /content/drive/My Drive/Testing/glioma/Te-gl_0208.jpg  \n",
            "  inflating: /content/drive/My Drive/Testing/glioma/Te-gl_0209.jpg  \n",
            "  inflating: /content/drive/My Drive/Testing/glioma/Te-gl_0210.jpg  \n",
            "  inflating: /content/drive/My Drive/Testing/glioma/Te-gl_0211.jpg  \n",
            "  inflating: /content/drive/My Drive/Testing/glioma/Te-gl_0212.jpg  \n",
            "  inflating: /content/drive/My Drive/Testing/glioma/Te-gl_0213.jpg  \n",
            "  inflating: /content/drive/My Drive/Testing/glioma/Te-gl_0214.jpg  \n",
            "  inflating: /content/drive/My Drive/Testing/glioma/Te-gl_0215.jpg  \n",
            "  inflating: /content/drive/My Drive/Testing/glioma/Te-gl_0216.jpg  \n",
            "  inflating: /content/drive/My Drive/Testing/glioma/Te-gl_0217.jpg  \n",
            "  inflating: /content/drive/My Drive/Testing/glioma/Te-gl_0218.jpg  \n",
            "  inflating: /content/drive/My Drive/Testing/glioma/Te-gl_0219.jpg  \n",
            "  inflating: /content/drive/My Drive/Testing/glioma/Te-gl_0220.jpg  \n",
            "  inflating: /content/drive/My Drive/Testing/glioma/Te-gl_0221.jpg  \n",
            "  inflating: /content/drive/My Drive/Testing/glioma/Te-gl_0222.jpg  \n",
            "  inflating: /content/drive/My Drive/Testing/glioma/Te-gl_0223.jpg  \n",
            "  inflating: /content/drive/My Drive/Testing/glioma/Te-gl_0224.jpg  \n",
            "  inflating: /content/drive/My Drive/Testing/glioma/Te-gl_0225.jpg  \n",
            "  inflating: /content/drive/My Drive/Testing/glioma/Te-gl_0226.jpg  \n",
            "  inflating: /content/drive/My Drive/Testing/glioma/Te-gl_0227.jpg  \n",
            "  inflating: /content/drive/My Drive/Testing/glioma/Te-gl_0228.jpg  \n",
            "  inflating: /content/drive/My Drive/Testing/glioma/Te-gl_0229.jpg  \n",
            "  inflating: /content/drive/My Drive/Testing/glioma/Te-gl_0230.jpg  \n",
            "  inflating: /content/drive/My Drive/Testing/glioma/Te-gl_0231.jpg  \n",
            "  inflating: /content/drive/My Drive/Testing/glioma/Te-gl_0232.jpg  \n",
            "  inflating: /content/drive/My Drive/Testing/glioma/Te-gl_0233.jpg  \n",
            "  inflating: /content/drive/My Drive/Testing/glioma/Te-gl_0234.jpg  \n",
            "  inflating: /content/drive/My Drive/Testing/glioma/Te-gl_0235.jpg  \n",
            "  inflating: /content/drive/My Drive/Testing/glioma/Te-gl_0236.jpg  \n",
            "  inflating: /content/drive/My Drive/Testing/glioma/Te-gl_0237.jpg  \n",
            "  inflating: /content/drive/My Drive/Testing/glioma/Te-gl_0238.jpg  \n",
            "  inflating: /content/drive/My Drive/Testing/glioma/Te-gl_0239.jpg  \n",
            "  inflating: /content/drive/My Drive/Testing/glioma/Te-gl_0240.jpg  \n",
            "  inflating: /content/drive/My Drive/Testing/glioma/Te-gl_0241.jpg  \n",
            "  inflating: /content/drive/My Drive/Testing/glioma/Te-gl_0242.jpg  \n",
            "  inflating: /content/drive/My Drive/Testing/glioma/Te-gl_0243.jpg  \n",
            "  inflating: /content/drive/My Drive/Testing/glioma/Te-gl_0244.jpg  \n",
            "  inflating: /content/drive/My Drive/Testing/glioma/Te-gl_0245.jpg  \n",
            "  inflating: /content/drive/My Drive/Testing/glioma/Te-gl_0246.jpg  \n",
            "  inflating: /content/drive/My Drive/Testing/glioma/Te-gl_0247.jpg  \n",
            "  inflating: /content/drive/My Drive/Testing/glioma/Te-gl_0248.jpg  \n",
            "  inflating: /content/drive/My Drive/Testing/glioma/Te-gl_0249.jpg  \n",
            "  inflating: /content/drive/My Drive/Testing/glioma/Te-gl_0250.jpg  \n",
            "  inflating: /content/drive/My Drive/Testing/glioma/Te-gl_0251.jpg  \n",
            "  inflating: /content/drive/My Drive/Testing/glioma/Te-gl_0252.jpg  \n",
            "  inflating: /content/drive/My Drive/Testing/glioma/Te-gl_0253.jpg  \n",
            "  inflating: /content/drive/My Drive/Testing/glioma/Te-gl_0254.jpg  \n",
            "  inflating: /content/drive/My Drive/Testing/glioma/Te-gl_0255.jpg  \n",
            "  inflating: /content/drive/My Drive/Testing/glioma/Te-gl_0256.jpg  \n",
            "  inflating: /content/drive/My Drive/Testing/glioma/Te-gl_0257.jpg  \n",
            "  inflating: /content/drive/My Drive/Testing/glioma/Te-gl_0258.jpg  \n",
            "  inflating: /content/drive/My Drive/Testing/glioma/Te-gl_0259.jpg  \n",
            "  inflating: /content/drive/My Drive/Testing/glioma/Te-gl_0260.jpg  \n",
            "  inflating: /content/drive/My Drive/Testing/glioma/Te-gl_0261.jpg  \n",
            "  inflating: /content/drive/My Drive/Testing/glioma/Te-gl_0262.jpg  \n",
            "  inflating: /content/drive/My Drive/Testing/glioma/Te-gl_0263.jpg  \n",
            "  inflating: /content/drive/My Drive/Testing/glioma/Te-gl_0264.jpg  \n",
            "  inflating: /content/drive/My Drive/Testing/glioma/Te-gl_0265.jpg  \n",
            "  inflating: /content/drive/My Drive/Testing/glioma/Te-gl_0266.jpg  \n",
            "  inflating: /content/drive/My Drive/Testing/glioma/Te-gl_0267.jpg  \n",
            "  inflating: /content/drive/My Drive/Testing/glioma/Te-gl_0268.jpg  \n",
            "  inflating: /content/drive/My Drive/Testing/glioma/Te-gl_0269.jpg  \n",
            "  inflating: /content/drive/My Drive/Testing/glioma/Te-gl_0270.jpg  \n",
            "  inflating: /content/drive/My Drive/Testing/glioma/Te-gl_0271.jpg  \n",
            "  inflating: /content/drive/My Drive/Testing/glioma/Te-gl_0272.jpg  \n",
            "  inflating: /content/drive/My Drive/Testing/glioma/Te-gl_0273.jpg  \n",
            "  inflating: /content/drive/My Drive/Testing/glioma/Te-gl_0274.jpg  \n",
            "  inflating: /content/drive/My Drive/Testing/glioma/Te-gl_0275.jpg  \n",
            "  inflating: /content/drive/My Drive/Testing/glioma/Te-gl_0276.jpg  \n",
            "  inflating: /content/drive/My Drive/Testing/glioma/Te-gl_0277.jpg  \n",
            "  inflating: /content/drive/My Drive/Testing/glioma/Te-gl_0278.jpg  \n",
            "  inflating: /content/drive/My Drive/Testing/glioma/Te-gl_0279.jpg  \n",
            "  inflating: /content/drive/My Drive/Testing/glioma/Te-gl_0280.jpg  \n",
            "  inflating: /content/drive/My Drive/Testing/glioma/Te-gl_0281.jpg  \n",
            "  inflating: /content/drive/My Drive/Testing/glioma/Te-gl_0282.jpg  \n",
            "  inflating: /content/drive/My Drive/Testing/glioma/Te-gl_0283.jpg  \n",
            "  inflating: /content/drive/My Drive/Testing/glioma/Te-gl_0284.jpg  \n",
            "  inflating: /content/drive/My Drive/Testing/glioma/Te-gl_0285.jpg  \n",
            "  inflating: /content/drive/My Drive/Testing/glioma/Te-gl_0286.jpg  \n",
            "  inflating: /content/drive/My Drive/Testing/glioma/Te-gl_0287.jpg  \n",
            "  inflating: /content/drive/My Drive/Testing/glioma/Te-gl_0288.jpg  \n",
            "  inflating: /content/drive/My Drive/Testing/glioma/Te-gl_0289.jpg  \n",
            "  inflating: /content/drive/My Drive/Testing/glioma/Te-gl_0290.jpg  \n",
            "  inflating: /content/drive/My Drive/Testing/glioma/Te-gl_0291.jpg  \n",
            "  inflating: /content/drive/My Drive/Testing/glioma/Te-gl_0292.jpg  \n",
            "  inflating: /content/drive/My Drive/Testing/glioma/Te-gl_0293.jpg  \n",
            "  inflating: /content/drive/My Drive/Testing/glioma/Te-gl_0294.jpg  \n",
            "  inflating: /content/drive/My Drive/Testing/glioma/Te-gl_0295.jpg  \n",
            "  inflating: /content/drive/My Drive/Testing/glioma/Te-gl_0296.jpg  \n",
            "  inflating: /content/drive/My Drive/Testing/glioma/Te-gl_0297.jpg  \n",
            "  inflating: /content/drive/My Drive/Testing/glioma/Te-gl_0298.jpg  \n",
            "  inflating: /content/drive/My Drive/Testing/glioma/Te-gl_0299.jpg  \n",
            "  inflating: /content/drive/My Drive/Testing/glioma/Te-glTr_0000.jpg  \n",
            "  inflating: /content/drive/My Drive/Testing/glioma/Te-glTr_0001.jpg  \n",
            "  inflating: /content/drive/My Drive/Testing/glioma/Te-glTr_0002.jpg  \n",
            "  inflating: /content/drive/My Drive/Testing/glioma/Te-glTr_0003.jpg  \n",
            "  inflating: /content/drive/My Drive/Testing/glioma/Te-glTr_0004.jpg  \n",
            "  inflating: /content/drive/My Drive/Testing/glioma/Te-glTr_0005.jpg  \n",
            "  inflating: /content/drive/My Drive/Testing/glioma/Te-glTr_0006.jpg  \n",
            "  inflating: /content/drive/My Drive/Testing/glioma/Te-glTr_0007.jpg  \n",
            "  inflating: /content/drive/My Drive/Testing/glioma/Te-glTr_0008.jpg  \n",
            "  inflating: /content/drive/My Drive/Testing/glioma/Te-glTr_0009.jpg  \n",
            "   creating: /content/drive/My Drive/Testing/meningioma/\n",
            "  inflating: /content/drive/My Drive/Testing/meningioma/Te-me_0010.jpg  \n",
            "  inflating: /content/drive/My Drive/Testing/meningioma/Te-me_0011.jpg  \n",
            "  inflating: /content/drive/My Drive/Testing/meningioma/Te-me_0012.jpg  \n",
            "  inflating: /content/drive/My Drive/Testing/meningioma/Te-me_0013.jpg  \n",
            "  inflating: /content/drive/My Drive/Testing/meningioma/Te-me_0014.jpg  \n",
            "  inflating: /content/drive/My Drive/Testing/meningioma/Te-me_0015.jpg  \n",
            "  inflating: /content/drive/My Drive/Testing/meningioma/Te-me_0016.jpg  \n",
            "  inflating: /content/drive/My Drive/Testing/meningioma/Te-me_0017.jpg  \n",
            "  inflating: /content/drive/My Drive/Testing/meningioma/Te-me_0018.jpg  \n",
            "  inflating: /content/drive/My Drive/Testing/meningioma/Te-me_0019.jpg  \n",
            "  inflating: /content/drive/My Drive/Testing/meningioma/Te-me_0020.jpg  \n",
            "  inflating: /content/drive/My Drive/Testing/meningioma/Te-me_0021.jpg  \n",
            "  inflating: /content/drive/My Drive/Testing/meningioma/Te-me_0022.jpg  \n",
            "  inflating: /content/drive/My Drive/Testing/meningioma/Te-me_0023.jpg  \n",
            "  inflating: /content/drive/My Drive/Testing/meningioma/Te-me_0024.jpg  \n",
            "  inflating: /content/drive/My Drive/Testing/meningioma/Te-me_0025.jpg  \n",
            "  inflating: /content/drive/My Drive/Testing/meningioma/Te-me_0026.jpg  \n",
            "  inflating: /content/drive/My Drive/Testing/meningioma/Te-me_0027.jpg  \n",
            "  inflating: /content/drive/My Drive/Testing/meningioma/Te-me_0028.jpg  \n",
            "  inflating: /content/drive/My Drive/Testing/meningioma/Te-me_0029.jpg  \n",
            "  inflating: /content/drive/My Drive/Testing/meningioma/Te-me_0030.jpg  \n",
            "  inflating: /content/drive/My Drive/Testing/meningioma/Te-me_0031.jpg  \n",
            "  inflating: /content/drive/My Drive/Testing/meningioma/Te-me_0032.jpg  \n",
            "  inflating: /content/drive/My Drive/Testing/meningioma/Te-me_0033.jpg  \n",
            "  inflating: /content/drive/My Drive/Testing/meningioma/Te-me_0034.jpg  \n",
            "  inflating: /content/drive/My Drive/Testing/meningioma/Te-me_0035.jpg  \n",
            "  inflating: /content/drive/My Drive/Testing/meningioma/Te-me_0036.jpg  \n",
            "  inflating: /content/drive/My Drive/Testing/meningioma/Te-me_0037.jpg  \n",
            "  inflating: /content/drive/My Drive/Testing/meningioma/Te-me_0038.jpg  \n",
            "  inflating: /content/drive/My Drive/Testing/meningioma/Te-me_0039.jpg  \n",
            "  inflating: /content/drive/My Drive/Testing/meningioma/Te-me_0040.jpg  \n",
            "  inflating: /content/drive/My Drive/Testing/meningioma/Te-me_0041.jpg  \n",
            "  inflating: /content/drive/My Drive/Testing/meningioma/Te-me_0042.jpg  \n",
            "  inflating: /content/drive/My Drive/Testing/meningioma/Te-me_0043.jpg  \n",
            "  inflating: /content/drive/My Drive/Testing/meningioma/Te-me_0044.jpg  \n",
            "  inflating: /content/drive/My Drive/Testing/meningioma/Te-me_0045.jpg  \n",
            "  inflating: /content/drive/My Drive/Testing/meningioma/Te-me_0046.jpg  \n",
            "  inflating: /content/drive/My Drive/Testing/meningioma/Te-me_0047.jpg  \n",
            "  inflating: /content/drive/My Drive/Testing/meningioma/Te-me_0048.jpg  \n",
            "  inflating: /content/drive/My Drive/Testing/meningioma/Te-me_0049.jpg  \n",
            "  inflating: /content/drive/My Drive/Testing/meningioma/Te-me_0050.jpg  \n",
            "  inflating: /content/drive/My Drive/Testing/meningioma/Te-me_0051.jpg  \n",
            "  inflating: /content/drive/My Drive/Testing/meningioma/Te-me_0052.jpg  \n",
            "  inflating: /content/drive/My Drive/Testing/meningioma/Te-me_0053.jpg  \n",
            "  inflating: /content/drive/My Drive/Testing/meningioma/Te-me_0054.jpg  \n",
            "  inflating: /content/drive/My Drive/Testing/meningioma/Te-me_0055.jpg  \n",
            "  inflating: /content/drive/My Drive/Testing/meningioma/Te-me_0056.jpg  \n",
            "  inflating: /content/drive/My Drive/Testing/meningioma/Te-me_0057.jpg  \n",
            "  inflating: /content/drive/My Drive/Testing/meningioma/Te-me_0058.jpg  \n",
            "  inflating: /content/drive/My Drive/Testing/meningioma/Te-me_0059.jpg  \n",
            "  inflating: /content/drive/My Drive/Testing/meningioma/Te-me_0060.jpg  \n",
            "  inflating: /content/drive/My Drive/Testing/meningioma/Te-me_0061.jpg  \n",
            "  inflating: /content/drive/My Drive/Testing/meningioma/Te-me_0062.jpg  \n",
            "  inflating: /content/drive/My Drive/Testing/meningioma/Te-me_0063.jpg  \n",
            "  inflating: /content/drive/My Drive/Testing/meningioma/Te-me_0064.jpg  \n",
            "  inflating: /content/drive/My Drive/Testing/meningioma/Te-me_0065.jpg  \n",
            "  inflating: /content/drive/My Drive/Testing/meningioma/Te-me_0066.jpg  \n",
            "  inflating: /content/drive/My Drive/Testing/meningioma/Te-me_0067.jpg  \n",
            "  inflating: /content/drive/My Drive/Testing/meningioma/Te-me_0068.jpg  \n",
            "  inflating: /content/drive/My Drive/Testing/meningioma/Te-me_0069.jpg  \n",
            "  inflating: /content/drive/My Drive/Testing/meningioma/Te-me_0070.jpg  \n",
            "  inflating: /content/drive/My Drive/Testing/meningioma/Te-me_0071.jpg  \n",
            "  inflating: /content/drive/My Drive/Testing/meningioma/Te-me_0072.jpg  \n",
            "  inflating: /content/drive/My Drive/Testing/meningioma/Te-me_0073.jpg  \n",
            "  inflating: /content/drive/My Drive/Testing/meningioma/Te-me_0074.jpg  \n",
            "  inflating: /content/drive/My Drive/Testing/meningioma/Te-me_0075.jpg  \n",
            "  inflating: /content/drive/My Drive/Testing/meningioma/Te-me_0076.jpg  \n",
            "  inflating: /content/drive/My Drive/Testing/meningioma/Te-me_0077.jpg  \n",
            "  inflating: /content/drive/My Drive/Testing/meningioma/Te-me_0078.jpg  \n",
            "  inflating: /content/drive/My Drive/Testing/meningioma/Te-me_0079.jpg  \n",
            "  inflating: /content/drive/My Drive/Testing/meningioma/Te-me_0080.jpg  \n",
            "  inflating: /content/drive/My Drive/Testing/meningioma/Te-me_0081.jpg  \n",
            "  inflating: /content/drive/My Drive/Testing/meningioma/Te-me_0082.jpg  \n",
            "  inflating: /content/drive/My Drive/Testing/meningioma/Te-me_0083.jpg  \n",
            "  inflating: /content/drive/My Drive/Testing/meningioma/Te-me_0084.jpg  \n",
            "  inflating: /content/drive/My Drive/Testing/meningioma/Te-me_0085.jpg  \n",
            "  inflating: /content/drive/My Drive/Testing/meningioma/Te-me_0086.jpg  \n",
            "  inflating: /content/drive/My Drive/Testing/meningioma/Te-me_0087.jpg  \n",
            "  inflating: /content/drive/My Drive/Testing/meningioma/Te-me_0088.jpg  \n",
            "  inflating: /content/drive/My Drive/Testing/meningioma/Te-me_0089.jpg  \n",
            "  inflating: /content/drive/My Drive/Testing/meningioma/Te-me_0090.jpg  \n",
            "  inflating: /content/drive/My Drive/Testing/meningioma/Te-me_0091.jpg  \n",
            "  inflating: /content/drive/My Drive/Testing/meningioma/Te-me_0092.jpg  \n",
            "  inflating: /content/drive/My Drive/Testing/meningioma/Te-me_0093.jpg  \n",
            "  inflating: /content/drive/My Drive/Testing/meningioma/Te-me_0094.jpg  \n",
            "  inflating: /content/drive/My Drive/Testing/meningioma/Te-me_0095.jpg  \n",
            "  inflating: /content/drive/My Drive/Testing/meningioma/Te-me_0096.jpg  \n",
            "  inflating: /content/drive/My Drive/Testing/meningioma/Te-me_0097.jpg  \n",
            "  inflating: /content/drive/My Drive/Testing/meningioma/Te-me_0098.jpg  \n",
            "  inflating: /content/drive/My Drive/Testing/meningioma/Te-me_0099.jpg  \n",
            "  inflating: /content/drive/My Drive/Testing/meningioma/Te-me_0100.jpg  \n",
            "  inflating: /content/drive/My Drive/Testing/meningioma/Te-me_0101.jpg  \n",
            "  inflating: /content/drive/My Drive/Testing/meningioma/Te-me_0102.jpg  \n",
            "  inflating: /content/drive/My Drive/Testing/meningioma/Te-me_0103.jpg  \n",
            "  inflating: /content/drive/My Drive/Testing/meningioma/Te-me_0104.jpg  \n",
            "  inflating: /content/drive/My Drive/Testing/meningioma/Te-me_0105.jpg  \n",
            "  inflating: /content/drive/My Drive/Testing/meningioma/Te-me_0106.jpg  \n",
            "  inflating: /content/drive/My Drive/Testing/meningioma/Te-me_0107.jpg  \n",
            "  inflating: /content/drive/My Drive/Testing/meningioma/Te-me_0108.jpg  \n",
            "  inflating: /content/drive/My Drive/Testing/meningioma/Te-me_0109.jpg  \n",
            "  inflating: /content/drive/My Drive/Testing/meningioma/Te-me_0110.jpg  \n",
            "  inflating: /content/drive/My Drive/Testing/meningioma/Te-me_0111.jpg  \n",
            "  inflating: /content/drive/My Drive/Testing/meningioma/Te-me_0112.jpg  \n",
            "  inflating: /content/drive/My Drive/Testing/meningioma/Te-me_0113.jpg  \n",
            "  inflating: /content/drive/My Drive/Testing/meningioma/Te-me_0114.jpg  \n",
            "  inflating: /content/drive/My Drive/Testing/meningioma/Te-me_0115.jpg  \n",
            "  inflating: /content/drive/My Drive/Testing/meningioma/Te-me_0116.jpg  \n",
            "  inflating: /content/drive/My Drive/Testing/meningioma/Te-me_0117.jpg  \n",
            "  inflating: /content/drive/My Drive/Testing/meningioma/Te-me_0118.jpg  \n",
            "  inflating: /content/drive/My Drive/Testing/meningioma/Te-me_0119.jpg  \n",
            "  inflating: /content/drive/My Drive/Testing/meningioma/Te-me_0120.jpg  \n",
            "  inflating: /content/drive/My Drive/Testing/meningioma/Te-me_0121.jpg  \n",
            "  inflating: /content/drive/My Drive/Testing/meningioma/Te-me_0122.jpg  \n",
            "  inflating: /content/drive/My Drive/Testing/meningioma/Te-me_0123.jpg  \n",
            "  inflating: /content/drive/My Drive/Testing/meningioma/Te-me_0124.jpg  \n",
            "  inflating: /content/drive/My Drive/Testing/meningioma/Te-me_0125.jpg  \n",
            "  inflating: /content/drive/My Drive/Testing/meningioma/Te-me_0126.jpg  \n",
            "  inflating: /content/drive/My Drive/Testing/meningioma/Te-me_0127.jpg  \n",
            "  inflating: /content/drive/My Drive/Testing/meningioma/Te-me_0128.jpg  \n",
            "  inflating: /content/drive/My Drive/Testing/meningioma/Te-me_0129.jpg  \n",
            "  inflating: /content/drive/My Drive/Testing/meningioma/Te-me_0130.jpg  \n",
            "  inflating: /content/drive/My Drive/Testing/meningioma/Te-me_0131.jpg  \n",
            "  inflating: /content/drive/My Drive/Testing/meningioma/Te-me_0132.jpg  \n",
            "  inflating: /content/drive/My Drive/Testing/meningioma/Te-me_0133.jpg  \n",
            "  inflating: /content/drive/My Drive/Testing/meningioma/Te-me_0134.jpg  \n",
            "  inflating: /content/drive/My Drive/Testing/meningioma/Te-me_0135.jpg  \n",
            "  inflating: /content/drive/My Drive/Testing/meningioma/Te-me_0136.jpg  \n",
            "  inflating: /content/drive/My Drive/Testing/meningioma/Te-me_0137.jpg  \n",
            "  inflating: /content/drive/My Drive/Testing/meningioma/Te-me_0138.jpg  \n",
            "  inflating: /content/drive/My Drive/Testing/meningioma/Te-me_0139.jpg  \n",
            "  inflating: /content/drive/My Drive/Testing/meningioma/Te-me_0140.jpg  \n",
            "  inflating: /content/drive/My Drive/Testing/meningioma/Te-me_0141.jpg  \n",
            "  inflating: /content/drive/My Drive/Testing/meningioma/Te-me_0142.jpg  \n",
            "  inflating: /content/drive/My Drive/Testing/meningioma/Te-me_0143.jpg  \n",
            "  inflating: /content/drive/My Drive/Testing/meningioma/Te-me_0144.jpg  \n",
            "  inflating: /content/drive/My Drive/Testing/meningioma/Te-me_0145.jpg  \n",
            "  inflating: /content/drive/My Drive/Testing/meningioma/Te-me_0146.jpg  \n",
            "  inflating: /content/drive/My Drive/Testing/meningioma/Te-me_0147.jpg  \n",
            "  inflating: /content/drive/My Drive/Testing/meningioma/Te-me_0148.jpg  \n",
            "  inflating: /content/drive/My Drive/Testing/meningioma/Te-me_0149.jpg  \n",
            "  inflating: /content/drive/My Drive/Testing/meningioma/Te-me_0150.jpg  \n",
            "  inflating: /content/drive/My Drive/Testing/meningioma/Te-me_0151.jpg  \n",
            "  inflating: /content/drive/My Drive/Testing/meningioma/Te-me_0152.jpg  \n",
            "  inflating: /content/drive/My Drive/Testing/meningioma/Te-me_0153.jpg  \n",
            "  inflating: /content/drive/My Drive/Testing/meningioma/Te-me_0154.jpg  \n",
            "  inflating: /content/drive/My Drive/Testing/meningioma/Te-me_0155.jpg  \n",
            "  inflating: /content/drive/My Drive/Testing/meningioma/Te-me_0156.jpg  \n",
            "  inflating: /content/drive/My Drive/Testing/meningioma/Te-me_0157.jpg  \n",
            "  inflating: /content/drive/My Drive/Testing/meningioma/Te-me_0158.jpg  \n",
            "  inflating: /content/drive/My Drive/Testing/meningioma/Te-me_0159.jpg  \n",
            "  inflating: /content/drive/My Drive/Testing/meningioma/Te-me_0160.jpg  \n",
            "  inflating: /content/drive/My Drive/Testing/meningioma/Te-me_0161.jpg  \n",
            "  inflating: /content/drive/My Drive/Testing/meningioma/Te-me_0162.jpg  \n",
            "  inflating: /content/drive/My Drive/Testing/meningioma/Te-me_0163.jpg  \n",
            "  inflating: /content/drive/My Drive/Testing/meningioma/Te-me_0164.jpg  \n",
            "  inflating: /content/drive/My Drive/Testing/meningioma/Te-me_0165.jpg  \n",
            "  inflating: /content/drive/My Drive/Testing/meningioma/Te-me_0166.jpg  \n",
            "  inflating: /content/drive/My Drive/Testing/meningioma/Te-me_0167.jpg  \n",
            "  inflating: /content/drive/My Drive/Testing/meningioma/Te-me_0168.jpg  \n",
            "  inflating: /content/drive/My Drive/Testing/meningioma/Te-me_0169.jpg  \n",
            "  inflating: /content/drive/My Drive/Testing/meningioma/Te-me_0170.jpg  \n",
            "  inflating: /content/drive/My Drive/Testing/meningioma/Te-me_0171.jpg  \n",
            "  inflating: /content/drive/My Drive/Testing/meningioma/Te-me_0172.jpg  \n",
            "  inflating: /content/drive/My Drive/Testing/meningioma/Te-me_0173.jpg  \n",
            "  inflating: /content/drive/My Drive/Testing/meningioma/Te-me_0174.jpg  \n",
            "  inflating: /content/drive/My Drive/Testing/meningioma/Te-me_0175.jpg  \n",
            "  inflating: /content/drive/My Drive/Testing/meningioma/Te-me_0176.jpg  \n",
            "  inflating: /content/drive/My Drive/Testing/meningioma/Te-me_0177.jpg  \n",
            "  inflating: /content/drive/My Drive/Testing/meningioma/Te-me_0178.jpg  \n",
            "  inflating: /content/drive/My Drive/Testing/meningioma/Te-me_0179.jpg  \n",
            "  inflating: /content/drive/My Drive/Testing/meningioma/Te-me_0180.jpg  \n",
            "  inflating: /content/drive/My Drive/Testing/meningioma/Te-me_0181.jpg  \n",
            "  inflating: /content/drive/My Drive/Testing/meningioma/Te-me_0182.jpg  \n",
            "  inflating: /content/drive/My Drive/Testing/meningioma/Te-me_0183.jpg  \n",
            "  inflating: /content/drive/My Drive/Testing/meningioma/Te-me_0184.jpg  \n",
            "  inflating: /content/drive/My Drive/Testing/meningioma/Te-me_0185.jpg  \n",
            "  inflating: /content/drive/My Drive/Testing/meningioma/Te-me_0186.jpg  \n",
            "  inflating: /content/drive/My Drive/Testing/meningioma/Te-me_0187.jpg  \n",
            "  inflating: /content/drive/My Drive/Testing/meningioma/Te-me_0188.jpg  \n",
            "  inflating: /content/drive/My Drive/Testing/meningioma/Te-me_0189.jpg  \n",
            "  inflating: /content/drive/My Drive/Testing/meningioma/Te-me_0190.jpg  \n",
            "  inflating: /content/drive/My Drive/Testing/meningioma/Te-me_0191.jpg  \n",
            "  inflating: /content/drive/My Drive/Testing/meningioma/Te-me_0192.jpg  \n",
            "  inflating: /content/drive/My Drive/Testing/meningioma/Te-me_0193.jpg  \n",
            "  inflating: /content/drive/My Drive/Testing/meningioma/Te-me_0194.jpg  \n",
            "  inflating: /content/drive/My Drive/Testing/meningioma/Te-me_0195.jpg  \n",
            "  inflating: /content/drive/My Drive/Testing/meningioma/Te-me_0196.jpg  \n",
            "  inflating: /content/drive/My Drive/Testing/meningioma/Te-me_0197.jpg  \n",
            "  inflating: /content/drive/My Drive/Testing/meningioma/Te-me_0198.jpg  \n",
            "  inflating: /content/drive/My Drive/Testing/meningioma/Te-me_0199.jpg  \n",
            "  inflating: /content/drive/My Drive/Testing/meningioma/Te-me_0200.jpg  \n",
            "  inflating: /content/drive/My Drive/Testing/meningioma/Te-me_0201.jpg  \n",
            "  inflating: /content/drive/My Drive/Testing/meningioma/Te-me_0202.jpg  \n",
            "  inflating: /content/drive/My Drive/Testing/meningioma/Te-me_0203.jpg  \n",
            "  inflating: /content/drive/My Drive/Testing/meningioma/Te-me_0204.jpg  \n",
            "  inflating: /content/drive/My Drive/Testing/meningioma/Te-me_0205.jpg  \n",
            "  inflating: /content/drive/My Drive/Testing/meningioma/Te-me_0206.jpg  \n",
            "  inflating: /content/drive/My Drive/Testing/meningioma/Te-me_0207.jpg  \n",
            "  inflating: /content/drive/My Drive/Testing/meningioma/Te-me_0208.jpg  \n",
            "  inflating: /content/drive/My Drive/Testing/meningioma/Te-me_0209.jpg  \n",
            "  inflating: /content/drive/My Drive/Testing/meningioma/Te-me_0210.jpg  \n",
            "  inflating: /content/drive/My Drive/Testing/meningioma/Te-me_0211.jpg  \n",
            "  inflating: /content/drive/My Drive/Testing/meningioma/Te-me_0212.jpg  \n",
            "  inflating: /content/drive/My Drive/Testing/meningioma/Te-me_0213.jpg  \n",
            "  inflating: /content/drive/My Drive/Testing/meningioma/Te-me_0214.jpg  \n",
            "  inflating: /content/drive/My Drive/Testing/meningioma/Te-me_0215.jpg  \n",
            "  inflating: /content/drive/My Drive/Testing/meningioma/Te-me_0216.jpg  \n",
            "  inflating: /content/drive/My Drive/Testing/meningioma/Te-me_0217.jpg  \n",
            "  inflating: /content/drive/My Drive/Testing/meningioma/Te-me_0218.jpg  \n",
            "  inflating: /content/drive/My Drive/Testing/meningioma/Te-me_0219.jpg  \n",
            "  inflating: /content/drive/My Drive/Testing/meningioma/Te-me_0220.jpg  \n",
            "  inflating: /content/drive/My Drive/Testing/meningioma/Te-me_0221.jpg  \n",
            "  inflating: /content/drive/My Drive/Testing/meningioma/Te-me_0222.jpg  \n",
            "  inflating: /content/drive/My Drive/Testing/meningioma/Te-me_0223.jpg  \n",
            "  inflating: /content/drive/My Drive/Testing/meningioma/Te-me_0224.jpg  \n",
            "  inflating: /content/drive/My Drive/Testing/meningioma/Te-me_0225.jpg  \n",
            "  inflating: /content/drive/My Drive/Testing/meningioma/Te-me_0226.jpg  \n",
            "  inflating: /content/drive/My Drive/Testing/meningioma/Te-me_0227.jpg  \n",
            "  inflating: /content/drive/My Drive/Testing/meningioma/Te-me_0228.jpg  \n",
            "  inflating: /content/drive/My Drive/Testing/meningioma/Te-me_0229.jpg  \n",
            "  inflating: /content/drive/My Drive/Testing/meningioma/Te-me_0230.jpg  \n",
            "  inflating: /content/drive/My Drive/Testing/meningioma/Te-me_0231.jpg  \n",
            "  inflating: /content/drive/My Drive/Testing/meningioma/Te-me_0232.jpg  \n",
            "  inflating: /content/drive/My Drive/Testing/meningioma/Te-me_0233.jpg  \n",
            "  inflating: /content/drive/My Drive/Testing/meningioma/Te-me_0234.jpg  \n",
            "  inflating: /content/drive/My Drive/Testing/meningioma/Te-me_0235.jpg  \n",
            "  inflating: /content/drive/My Drive/Testing/meningioma/Te-me_0236.jpg  \n",
            "  inflating: /content/drive/My Drive/Testing/meningioma/Te-me_0237.jpg  \n",
            "  inflating: /content/drive/My Drive/Testing/meningioma/Te-me_0238.jpg  \n",
            "  inflating: /content/drive/My Drive/Testing/meningioma/Te-me_0239.jpg  \n",
            "  inflating: /content/drive/My Drive/Testing/meningioma/Te-me_0240.jpg  \n",
            "  inflating: /content/drive/My Drive/Testing/meningioma/Te-me_0241.jpg  \n",
            "  inflating: /content/drive/My Drive/Testing/meningioma/Te-me_0242.jpg  \n",
            "  inflating: /content/drive/My Drive/Testing/meningioma/Te-me_0243.jpg  \n",
            "  inflating: /content/drive/My Drive/Testing/meningioma/Te-me_0244.jpg  \n",
            "  inflating: /content/drive/My Drive/Testing/meningioma/Te-me_0245.jpg  \n",
            "  inflating: /content/drive/My Drive/Testing/meningioma/Te-me_0246.jpg  \n",
            "  inflating: /content/drive/My Drive/Testing/meningioma/Te-me_0247.jpg  \n",
            "  inflating: /content/drive/My Drive/Testing/meningioma/Te-me_0248.jpg  \n",
            "  inflating: /content/drive/My Drive/Testing/meningioma/Te-me_0249.jpg  \n",
            "  inflating: /content/drive/My Drive/Testing/meningioma/Te-me_0250.jpg  \n",
            "  inflating: /content/drive/My Drive/Testing/meningioma/Te-me_0251.jpg  \n",
            "  inflating: /content/drive/My Drive/Testing/meningioma/Te-me_0252.jpg  \n",
            "  inflating: /content/drive/My Drive/Testing/meningioma/Te-me_0253.jpg  \n",
            "  inflating: /content/drive/My Drive/Testing/meningioma/Te-me_0254.jpg  \n",
            "  inflating: /content/drive/My Drive/Testing/meningioma/Te-me_0255.jpg  \n",
            "  inflating: /content/drive/My Drive/Testing/meningioma/Te-me_0256.jpg  \n",
            "  inflating: /content/drive/My Drive/Testing/meningioma/Te-me_0257.jpg  \n",
            "  inflating: /content/drive/My Drive/Testing/meningioma/Te-me_0258.jpg  \n",
            "  inflating: /content/drive/My Drive/Testing/meningioma/Te-me_0259.jpg  \n",
            "  inflating: /content/drive/My Drive/Testing/meningioma/Te-me_0260.jpg  \n",
            "  inflating: /content/drive/My Drive/Testing/meningioma/Te-me_0261.jpg  \n",
            "  inflating: /content/drive/My Drive/Testing/meningioma/Te-me_0262.jpg  \n",
            "  inflating: /content/drive/My Drive/Testing/meningioma/Te-me_0263.jpg  \n",
            "  inflating: /content/drive/My Drive/Testing/meningioma/Te-me_0264.jpg  \n",
            "  inflating: /content/drive/My Drive/Testing/meningioma/Te-me_0265.jpg  \n",
            "  inflating: /content/drive/My Drive/Testing/meningioma/Te-me_0266.jpg  \n",
            "  inflating: /content/drive/My Drive/Testing/meningioma/Te-me_0267.jpg  \n",
            "  inflating: /content/drive/My Drive/Testing/meningioma/Te-me_0268.jpg  \n",
            "  inflating: /content/drive/My Drive/Testing/meningioma/Te-me_0269.jpg  \n",
            "  inflating: /content/drive/My Drive/Testing/meningioma/Te-me_0270.jpg  \n",
            "  inflating: /content/drive/My Drive/Testing/meningioma/Te-me_0271.jpg  \n",
            "  inflating: /content/drive/My Drive/Testing/meningioma/Te-me_0272.jpg  \n",
            "  inflating: /content/drive/My Drive/Testing/meningioma/Te-me_0273.jpg  \n",
            "  inflating: /content/drive/My Drive/Testing/meningioma/Te-me_0274.jpg  \n",
            "  inflating: /content/drive/My Drive/Testing/meningioma/Te-me_0275.jpg  \n",
            "  inflating: /content/drive/My Drive/Testing/meningioma/Te-me_0276.jpg  \n",
            "  inflating: /content/drive/My Drive/Testing/meningioma/Te-me_0277.jpg  \n",
            "  inflating: /content/drive/My Drive/Testing/meningioma/Te-me_0278.jpg  \n",
            "  inflating: /content/drive/My Drive/Testing/meningioma/Te-me_0279.jpg  \n",
            "  inflating: /content/drive/My Drive/Testing/meningioma/Te-me_0280.jpg  \n",
            "  inflating: /content/drive/My Drive/Testing/meningioma/Te-me_0281.jpg  \n",
            "  inflating: /content/drive/My Drive/Testing/meningioma/Te-me_0282.jpg  \n",
            "  inflating: /content/drive/My Drive/Testing/meningioma/Te-me_0283.jpg  \n",
            "  inflating: /content/drive/My Drive/Testing/meningioma/Te-me_0284.jpg  \n",
            "  inflating: /content/drive/My Drive/Testing/meningioma/Te-me_0285.jpg  \n",
            "  inflating: /content/drive/My Drive/Testing/meningioma/Te-me_0286.jpg  \n",
            "  inflating: /content/drive/My Drive/Testing/meningioma/Te-me_0287.jpg  \n",
            "  inflating: /content/drive/My Drive/Testing/meningioma/Te-me_0288.jpg  \n",
            "  inflating: /content/drive/My Drive/Testing/meningioma/Te-me_0289.jpg  \n",
            "  inflating: /content/drive/My Drive/Testing/meningioma/Te-me_0290.jpg  \n",
            "  inflating: /content/drive/My Drive/Testing/meningioma/Te-me_0291.jpg  \n",
            "  inflating: /content/drive/My Drive/Testing/meningioma/Te-me_0292.jpg  \n",
            "  inflating: /content/drive/My Drive/Testing/meningioma/Te-me_0293.jpg  \n",
            "  inflating: /content/drive/My Drive/Testing/meningioma/Te-me_0294.jpg  \n",
            "  inflating: /content/drive/My Drive/Testing/meningioma/Te-me_0295.jpg  \n",
            "  inflating: /content/drive/My Drive/Testing/meningioma/Te-me_0296.jpg  \n",
            "  inflating: /content/drive/My Drive/Testing/meningioma/Te-me_0297.jpg  \n",
            "  inflating: /content/drive/My Drive/Testing/meningioma/Te-me_0298.jpg  \n",
            "  inflating: /content/drive/My Drive/Testing/meningioma/Te-me_0299.jpg  \n",
            "  inflating: /content/drive/My Drive/Testing/meningioma/Te-me_0300.jpg  \n",
            "  inflating: /content/drive/My Drive/Testing/meningioma/Te-me_0301.jpg  \n",
            "  inflating: /content/drive/My Drive/Testing/meningioma/Te-me_0302.jpg  \n",
            "  inflating: /content/drive/My Drive/Testing/meningioma/Te-me_0303.jpg  \n",
            "  inflating: /content/drive/My Drive/Testing/meningioma/Te-me_0304.jpg  \n",
            "  inflating: /content/drive/My Drive/Testing/meningioma/Te-me_0305.jpg  \n",
            "  inflating: /content/drive/My Drive/Testing/meningioma/Te-meTr_0000.jpg  \n",
            "  inflating: /content/drive/My Drive/Testing/meningioma/Te-meTr_0001.jpg  \n",
            "  inflating: /content/drive/My Drive/Testing/meningioma/Te-meTr_0002.jpg  \n",
            "  inflating: /content/drive/My Drive/Testing/meningioma/Te-meTr_0003.jpg  \n",
            "  inflating: /content/drive/My Drive/Testing/meningioma/Te-meTr_0004.jpg  \n",
            "  inflating: /content/drive/My Drive/Testing/meningioma/Te-meTr_0005.jpg  \n",
            "  inflating: /content/drive/My Drive/Testing/meningioma/Te-meTr_0006.jpg  \n",
            "  inflating: /content/drive/My Drive/Testing/meningioma/Te-meTr_0007.jpg  \n",
            "  inflating: /content/drive/My Drive/Testing/meningioma/Te-meTr_0008.jpg  \n",
            "  inflating: /content/drive/My Drive/Testing/meningioma/Te-meTr_0009.jpg  \n",
            "   creating: /content/drive/My Drive/Testing/pituitary/\n",
            "  inflating: /content/drive/My Drive/Testing/pituitary/Te-pi_0010.jpg  \n",
            "  inflating: /content/drive/My Drive/Testing/pituitary/Te-pi_0011.jpg  \n",
            "  inflating: /content/drive/My Drive/Testing/pituitary/Te-pi_0012.jpg  \n",
            "  inflating: /content/drive/My Drive/Testing/pituitary/Te-pi_0013.jpg  \n",
            "  inflating: /content/drive/My Drive/Testing/pituitary/Te-pi_0014.jpg  \n",
            "  inflating: /content/drive/My Drive/Testing/pituitary/Te-pi_0015.jpg  \n",
            "  inflating: /content/drive/My Drive/Testing/pituitary/Te-pi_0016.jpg  \n",
            "  inflating: /content/drive/My Drive/Testing/pituitary/Te-pi_0017.jpg  \n",
            "  inflating: /content/drive/My Drive/Testing/pituitary/Te-pi_0018.jpg  \n",
            "  inflating: /content/drive/My Drive/Testing/pituitary/Te-pi_0019.jpg  \n",
            "  inflating: /content/drive/My Drive/Testing/pituitary/Te-pi_0020.jpg  \n",
            "  inflating: /content/drive/My Drive/Testing/pituitary/Te-pi_0021.jpg  \n",
            "  inflating: /content/drive/My Drive/Testing/pituitary/Te-pi_0022.jpg  \n",
            "  inflating: /content/drive/My Drive/Testing/pituitary/Te-pi_0023.jpg  \n",
            "  inflating: /content/drive/My Drive/Testing/pituitary/Te-pi_0024.jpg  \n",
            "  inflating: /content/drive/My Drive/Testing/pituitary/Te-pi_0025.jpg  \n",
            "  inflating: /content/drive/My Drive/Testing/pituitary/Te-pi_0026.jpg  \n",
            "  inflating: /content/drive/My Drive/Testing/pituitary/Te-pi_0027.jpg  \n",
            "  inflating: /content/drive/My Drive/Testing/pituitary/Te-pi_0028.jpg  \n",
            "  inflating: /content/drive/My Drive/Testing/pituitary/Te-pi_0029.jpg  \n",
            "  inflating: /content/drive/My Drive/Testing/pituitary/Te-pi_0030.jpg  \n",
            "  inflating: /content/drive/My Drive/Testing/pituitary/Te-pi_0031.jpg  \n",
            "  inflating: /content/drive/My Drive/Testing/pituitary/Te-pi_0032.jpg  \n",
            "  inflating: /content/drive/My Drive/Testing/pituitary/Te-pi_0033.jpg  \n",
            "  inflating: /content/drive/My Drive/Testing/pituitary/Te-pi_0034.jpg  \n",
            "  inflating: /content/drive/My Drive/Testing/pituitary/Te-pi_0035.jpg  \n",
            "  inflating: /content/drive/My Drive/Testing/pituitary/Te-pi_0036.jpg  \n",
            "  inflating: /content/drive/My Drive/Testing/pituitary/Te-pi_0037.jpg  \n",
            "  inflating: /content/drive/My Drive/Testing/pituitary/Te-pi_0038.jpg  \n",
            "  inflating: /content/drive/My Drive/Testing/pituitary/Te-pi_0039.jpg  \n",
            "  inflating: /content/drive/My Drive/Testing/pituitary/Te-pi_0040.jpg  \n",
            "  inflating: /content/drive/My Drive/Testing/pituitary/Te-pi_0041.jpg  \n",
            "  inflating: /content/drive/My Drive/Testing/pituitary/Te-pi_0042.jpg  \n",
            "  inflating: /content/drive/My Drive/Testing/pituitary/Te-pi_0043.jpg  \n",
            "  inflating: /content/drive/My Drive/Testing/pituitary/Te-pi_0044.jpg  \n",
            "  inflating: /content/drive/My Drive/Testing/pituitary/Te-pi_0045.jpg  \n",
            "  inflating: /content/drive/My Drive/Testing/pituitary/Te-pi_0046.jpg  \n",
            "  inflating: /content/drive/My Drive/Testing/pituitary/Te-pi_0047.jpg  \n",
            "  inflating: /content/drive/My Drive/Testing/pituitary/Te-pi_0048.jpg  \n",
            "  inflating: /content/drive/My Drive/Testing/pituitary/Te-pi_0049.jpg  \n",
            "  inflating: /content/drive/My Drive/Testing/pituitary/Te-pi_0050.jpg  \n",
            "  inflating: /content/drive/My Drive/Testing/pituitary/Te-pi_0051.jpg  \n",
            "  inflating: /content/drive/My Drive/Testing/pituitary/Te-pi_0052.jpg  \n",
            "  inflating: /content/drive/My Drive/Testing/pituitary/Te-pi_0053.jpg  \n",
            "  inflating: /content/drive/My Drive/Testing/pituitary/Te-pi_0054.jpg  \n",
            "  inflating: /content/drive/My Drive/Testing/pituitary/Te-pi_0055.jpg  \n",
            "  inflating: /content/drive/My Drive/Testing/pituitary/Te-pi_0056.jpg  \n",
            "  inflating: /content/drive/My Drive/Testing/pituitary/Te-pi_0057.jpg  \n",
            "  inflating: /content/drive/My Drive/Testing/pituitary/Te-pi_0058.jpg  \n",
            "  inflating: /content/drive/My Drive/Testing/pituitary/Te-pi_0059.jpg  \n",
            "  inflating: /content/drive/My Drive/Testing/pituitary/Te-pi_0060.jpg  \n",
            "  inflating: /content/drive/My Drive/Testing/pituitary/Te-pi_0061.jpg  \n",
            "  inflating: /content/drive/My Drive/Testing/pituitary/Te-pi_0062.jpg  \n",
            "  inflating: /content/drive/My Drive/Testing/pituitary/Te-pi_0063.jpg  \n",
            "  inflating: /content/drive/My Drive/Testing/pituitary/Te-pi_0064.jpg  \n",
            "  inflating: /content/drive/My Drive/Testing/pituitary/Te-pi_0065.jpg  \n",
            "  inflating: /content/drive/My Drive/Testing/pituitary/Te-pi_0066.jpg  \n",
            "  inflating: /content/drive/My Drive/Testing/pituitary/Te-pi_0067.jpg  \n",
            "  inflating: /content/drive/My Drive/Testing/pituitary/Te-pi_0068.jpg  \n",
            "  inflating: /content/drive/My Drive/Testing/pituitary/Te-pi_0069.jpg  \n",
            "  inflating: /content/drive/My Drive/Testing/pituitary/Te-pi_0070.jpg  \n",
            "  inflating: /content/drive/My Drive/Testing/pituitary/Te-pi_0071.jpg  \n",
            "  inflating: /content/drive/My Drive/Testing/pituitary/Te-pi_0072.jpg  \n",
            "  inflating: /content/drive/My Drive/Testing/pituitary/Te-pi_0073.jpg  \n",
            "  inflating: /content/drive/My Drive/Testing/pituitary/Te-pi_0074.jpg  \n",
            "  inflating: /content/drive/My Drive/Testing/pituitary/Te-pi_0075.jpg  \n",
            "  inflating: /content/drive/My Drive/Testing/pituitary/Te-pi_0076.jpg  \n",
            "  inflating: /content/drive/My Drive/Testing/pituitary/Te-pi_0077.jpg  \n",
            "  inflating: /content/drive/My Drive/Testing/pituitary/Te-pi_0078.jpg  \n",
            "  inflating: /content/drive/My Drive/Testing/pituitary/Te-pi_0079.jpg  \n",
            "  inflating: /content/drive/My Drive/Testing/pituitary/Te-pi_0080.jpg  \n",
            "  inflating: /content/drive/My Drive/Testing/pituitary/Te-pi_0081.jpg  \n",
            "  inflating: /content/drive/My Drive/Testing/pituitary/Te-pi_0082.jpg  \n",
            "  inflating: /content/drive/My Drive/Testing/pituitary/Te-pi_0083.jpg  \n",
            "  inflating: /content/drive/My Drive/Testing/pituitary/Te-pi_0084.jpg  \n",
            "  inflating: /content/drive/My Drive/Testing/pituitary/Te-pi_0085.jpg  \n",
            "  inflating: /content/drive/My Drive/Testing/pituitary/Te-pi_0086.jpg  \n",
            "  inflating: /content/drive/My Drive/Testing/pituitary/Te-pi_0087.jpg  \n",
            "  inflating: /content/drive/My Drive/Testing/pituitary/Te-pi_0088.jpg  \n",
            "  inflating: /content/drive/My Drive/Testing/pituitary/Te-pi_0089.jpg  \n",
            "  inflating: /content/drive/My Drive/Testing/pituitary/Te-pi_0090.jpg  \n",
            "  inflating: /content/drive/My Drive/Testing/pituitary/Te-pi_0091.jpg  \n",
            "  inflating: /content/drive/My Drive/Testing/pituitary/Te-pi_0092.jpg  \n",
            "  inflating: /content/drive/My Drive/Testing/pituitary/Te-pi_0093.jpg  \n",
            "  inflating: /content/drive/My Drive/Testing/pituitary/Te-pi_0094.jpg  \n",
            "  inflating: /content/drive/My Drive/Testing/pituitary/Te-pi_0095.jpg  \n",
            "  inflating: /content/drive/My Drive/Testing/pituitary/Te-pi_0096.jpg  \n",
            "  inflating: /content/drive/My Drive/Testing/pituitary/Te-pi_0097.jpg  \n",
            "  inflating: /content/drive/My Drive/Testing/pituitary/Te-pi_0098.jpg  \n",
            " extracting: /content/drive/My Drive/Testing/pituitary/Te-pi_0099.jpg  \n",
            "  inflating: /content/drive/My Drive/Testing/pituitary/Te-pi_0100.jpg  \n",
            "  inflating: /content/drive/My Drive/Testing/pituitary/Te-pi_0101.jpg  \n",
            "  inflating: /content/drive/My Drive/Testing/pituitary/Te-pi_0102.jpg  \n",
            "  inflating: /content/drive/My Drive/Testing/pituitary/Te-pi_0103.jpg  \n",
            "  inflating: /content/drive/My Drive/Testing/pituitary/Te-pi_0104.jpg  \n",
            "  inflating: /content/drive/My Drive/Testing/pituitary/Te-pi_0105.jpg  \n",
            "  inflating: /content/drive/My Drive/Testing/pituitary/Te-pi_0106.jpg  \n",
            "  inflating: /content/drive/My Drive/Testing/pituitary/Te-pi_0107.jpg  \n",
            "  inflating: /content/drive/My Drive/Testing/pituitary/Te-pi_0108.jpg  \n",
            "  inflating: /content/drive/My Drive/Testing/pituitary/Te-pi_0109.jpg  \n",
            "  inflating: /content/drive/My Drive/Testing/pituitary/Te-pi_0110.jpg  \n",
            "  inflating: /content/drive/My Drive/Testing/pituitary/Te-pi_0111.jpg  \n",
            "  inflating: /content/drive/My Drive/Testing/pituitary/Te-pi_0112.jpg  \n",
            "  inflating: /content/drive/My Drive/Testing/pituitary/Te-pi_0113.jpg  \n",
            "  inflating: /content/drive/My Drive/Testing/pituitary/Te-pi_0114.jpg  \n",
            "  inflating: /content/drive/My Drive/Testing/pituitary/Te-pi_0115.jpg  \n",
            "  inflating: /content/drive/My Drive/Testing/pituitary/Te-pi_0116.jpg  \n",
            "  inflating: /content/drive/My Drive/Testing/pituitary/Te-pi_0117.jpg  \n",
            "  inflating: /content/drive/My Drive/Testing/pituitary/Te-pi_0118.jpg  \n",
            "  inflating: /content/drive/My Drive/Testing/pituitary/Te-pi_0119.jpg  \n",
            "  inflating: /content/drive/My Drive/Testing/pituitary/Te-pi_0120.jpg  \n",
            "  inflating: /content/drive/My Drive/Testing/pituitary/Te-pi_0121.jpg  \n",
            "  inflating: /content/drive/My Drive/Testing/pituitary/Te-pi_0122.jpg  \n",
            "  inflating: /content/drive/My Drive/Testing/pituitary/Te-pi_0123.jpg  \n",
            "  inflating: /content/drive/My Drive/Testing/pituitary/Te-pi_0124.jpg  \n",
            "  inflating: /content/drive/My Drive/Testing/pituitary/Te-pi_0125.jpg  \n",
            "  inflating: /content/drive/My Drive/Testing/pituitary/Te-pi_0126.jpg  \n",
            "  inflating: /content/drive/My Drive/Testing/pituitary/Te-pi_0127.jpg  \n",
            "  inflating: /content/drive/My Drive/Testing/pituitary/Te-pi_0128.jpg  \n",
            " extracting: /content/drive/My Drive/Testing/pituitary/Te-pi_0129.jpg  \n",
            "  inflating: /content/drive/My Drive/Testing/pituitary/Te-pi_0130.jpg  \n",
            "  inflating: /content/drive/My Drive/Testing/pituitary/Te-pi_0131.jpg  \n",
            "  inflating: /content/drive/My Drive/Testing/pituitary/Te-pi_0132.jpg  \n",
            "  inflating: /content/drive/My Drive/Testing/pituitary/Te-pi_0133.jpg  \n",
            "  inflating: /content/drive/My Drive/Testing/pituitary/Te-pi_0134.jpg  \n",
            "  inflating: /content/drive/My Drive/Testing/pituitary/Te-pi_0135.jpg  \n",
            "  inflating: /content/drive/My Drive/Testing/pituitary/Te-pi_0136.jpg  \n",
            "  inflating: /content/drive/My Drive/Testing/pituitary/Te-pi_0137.jpg  \n",
            "  inflating: /content/drive/My Drive/Testing/pituitary/Te-pi_0138.jpg  \n",
            "  inflating: /content/drive/My Drive/Testing/pituitary/Te-pi_0139.jpg  \n",
            "  inflating: /content/drive/My Drive/Testing/pituitary/Te-pi_0140.jpg  \n",
            "  inflating: /content/drive/My Drive/Testing/pituitary/Te-pi_0141.jpg  \n",
            "  inflating: /content/drive/My Drive/Testing/pituitary/Te-pi_0142.jpg  \n",
            "  inflating: /content/drive/My Drive/Testing/pituitary/Te-pi_0143.jpg  \n",
            "  inflating: /content/drive/My Drive/Testing/pituitary/Te-pi_0144.jpg  \n",
            "  inflating: /content/drive/My Drive/Testing/pituitary/Te-pi_0145.jpg  \n",
            "  inflating: /content/drive/My Drive/Testing/pituitary/Te-pi_0146.jpg  \n",
            "  inflating: /content/drive/My Drive/Testing/pituitary/Te-pi_0147.jpg  \n",
            "  inflating: /content/drive/My Drive/Testing/pituitary/Te-pi_0148.jpg  \n",
            "  inflating: /content/drive/My Drive/Testing/pituitary/Te-pi_0149.jpg  \n",
            "  inflating: /content/drive/My Drive/Testing/pituitary/Te-pi_0150.jpg  \n",
            "  inflating: /content/drive/My Drive/Testing/pituitary/Te-pi_0151.jpg  \n",
            "  inflating: /content/drive/My Drive/Testing/pituitary/Te-pi_0152.jpg  \n",
            "  inflating: /content/drive/My Drive/Testing/pituitary/Te-pi_0153.jpg  \n",
            "  inflating: /content/drive/My Drive/Testing/pituitary/Te-pi_0154.jpg  \n",
            "  inflating: /content/drive/My Drive/Testing/pituitary/Te-pi_0155.jpg  \n",
            "  inflating: /content/drive/My Drive/Testing/pituitary/Te-pi_0156.jpg  \n",
            "  inflating: /content/drive/My Drive/Testing/pituitary/Te-pi_0157.jpg  \n",
            "  inflating: /content/drive/My Drive/Testing/pituitary/Te-pi_0158.jpg  \n",
            "  inflating: /content/drive/My Drive/Testing/pituitary/Te-pi_0159.jpg  \n",
            "  inflating: /content/drive/My Drive/Testing/pituitary/Te-pi_0160.jpg  \n",
            "  inflating: /content/drive/My Drive/Testing/pituitary/Te-pi_0161.jpg  \n",
            "  inflating: /content/drive/My Drive/Testing/pituitary/Te-pi_0162.jpg  \n",
            "  inflating: /content/drive/My Drive/Testing/pituitary/Te-pi_0163.jpg  \n",
            "  inflating: /content/drive/My Drive/Testing/pituitary/Te-pi_0164.jpg  \n",
            "  inflating: /content/drive/My Drive/Testing/pituitary/Te-pi_0165.jpg  \n",
            "  inflating: /content/drive/My Drive/Testing/pituitary/Te-pi_0166.jpg  \n",
            "  inflating: /content/drive/My Drive/Testing/pituitary/Te-pi_0167.jpg  \n",
            "  inflating: /content/drive/My Drive/Testing/pituitary/Te-pi_0168.jpg  \n",
            "  inflating: /content/drive/My Drive/Testing/pituitary/Te-pi_0169.jpg  \n",
            "  inflating: /content/drive/My Drive/Testing/pituitary/Te-pi_0170.jpg  \n",
            "  inflating: /content/drive/My Drive/Testing/pituitary/Te-pi_0171.jpg  \n",
            "  inflating: /content/drive/My Drive/Testing/pituitary/Te-pi_0172.jpg  \n",
            "  inflating: /content/drive/My Drive/Testing/pituitary/Te-pi_0173.jpg  \n",
            "  inflating: /content/drive/My Drive/Testing/pituitary/Te-pi_0174.jpg  \n",
            "  inflating: /content/drive/My Drive/Testing/pituitary/Te-pi_0175.jpg  \n",
            "  inflating: /content/drive/My Drive/Testing/pituitary/Te-pi_0176.jpg  \n",
            "  inflating: /content/drive/My Drive/Testing/pituitary/Te-pi_0177.jpg  \n",
            "  inflating: /content/drive/My Drive/Testing/pituitary/Te-pi_0178.jpg  \n",
            "  inflating: /content/drive/My Drive/Testing/pituitary/Te-pi_0179.jpg  \n",
            "  inflating: /content/drive/My Drive/Testing/pituitary/Te-pi_0180.jpg  \n",
            "  inflating: /content/drive/My Drive/Testing/pituitary/Te-pi_0181.jpg  \n",
            "  inflating: /content/drive/My Drive/Testing/pituitary/Te-pi_0182.jpg  \n",
            "  inflating: /content/drive/My Drive/Testing/pituitary/Te-pi_0183.jpg  \n",
            "  inflating: /content/drive/My Drive/Testing/pituitary/Te-pi_0184.jpg  \n",
            "  inflating: /content/drive/My Drive/Testing/pituitary/Te-pi_0185.jpg  \n",
            "  inflating: /content/drive/My Drive/Testing/pituitary/Te-pi_0186.jpg  \n",
            "  inflating: /content/drive/My Drive/Testing/pituitary/Te-pi_0187.jpg  \n",
            "  inflating: /content/drive/My Drive/Testing/pituitary/Te-pi_0188.jpg  \n",
            "  inflating: /content/drive/My Drive/Testing/pituitary/Te-pi_0189.jpg  \n",
            "  inflating: /content/drive/My Drive/Testing/pituitary/Te-pi_0190.jpg  \n",
            "  inflating: /content/drive/My Drive/Testing/pituitary/Te-pi_0191.jpg  \n",
            "  inflating: /content/drive/My Drive/Testing/pituitary/Te-pi_0192.jpg  \n",
            "  inflating: /content/drive/My Drive/Testing/pituitary/Te-pi_0193.jpg  \n",
            "  inflating: /content/drive/My Drive/Testing/pituitary/Te-pi_0194.jpg  \n",
            "  inflating: /content/drive/My Drive/Testing/pituitary/Te-pi_0195.jpg  \n",
            "  inflating: /content/drive/My Drive/Testing/pituitary/Te-pi_0196.jpg  \n",
            "  inflating: /content/drive/My Drive/Testing/pituitary/Te-pi_0197.jpg  \n",
            "  inflating: /content/drive/My Drive/Testing/pituitary/Te-pi_0198.jpg  \n",
            "  inflating: /content/drive/My Drive/Testing/pituitary/Te-pi_0199.jpg  \n",
            "  inflating: /content/drive/My Drive/Testing/pituitary/Te-pi_0200.jpg  \n",
            "  inflating: /content/drive/My Drive/Testing/pituitary/Te-pi_0201.jpg  \n",
            "  inflating: /content/drive/My Drive/Testing/pituitary/Te-pi_0202.jpg  \n",
            "  inflating: /content/drive/My Drive/Testing/pituitary/Te-pi_0203.jpg  \n",
            "  inflating: /content/drive/My Drive/Testing/pituitary/Te-pi_0204.jpg  \n",
            "  inflating: /content/drive/My Drive/Testing/pituitary/Te-pi_0205.jpg  \n",
            "  inflating: /content/drive/My Drive/Testing/pituitary/Te-pi_0206.jpg  \n",
            "  inflating: /content/drive/My Drive/Testing/pituitary/Te-pi_0207.jpg  \n",
            "  inflating: /content/drive/My Drive/Testing/pituitary/Te-pi_0208.jpg  \n",
            "  inflating: /content/drive/My Drive/Testing/pituitary/Te-pi_0209.jpg  \n",
            "  inflating: /content/drive/My Drive/Testing/pituitary/Te-pi_0210.jpg  \n",
            "  inflating: /content/drive/My Drive/Testing/pituitary/Te-pi_0211.jpg  \n",
            "  inflating: /content/drive/My Drive/Testing/pituitary/Te-pi_0212.jpg  \n",
            "  inflating: /content/drive/My Drive/Testing/pituitary/Te-pi_0213.jpg  \n",
            "  inflating: /content/drive/My Drive/Testing/pituitary/Te-pi_0214.jpg  \n",
            "  inflating: /content/drive/My Drive/Testing/pituitary/Te-pi_0215.jpg  \n",
            "  inflating: /content/drive/My Drive/Testing/pituitary/Te-pi_0216.jpg  \n",
            "  inflating: /content/drive/My Drive/Testing/pituitary/Te-pi_0217.jpg  \n",
            "  inflating: /content/drive/My Drive/Testing/pituitary/Te-pi_0218.jpg  \n",
            "  inflating: /content/drive/My Drive/Testing/pituitary/Te-pi_0219.jpg  \n",
            "  inflating: /content/drive/My Drive/Testing/pituitary/Te-pi_0220.jpg  \n",
            "  inflating: /content/drive/My Drive/Testing/pituitary/Te-pi_0221.jpg  \n",
            "  inflating: /content/drive/My Drive/Testing/pituitary/Te-pi_0222.jpg  \n",
            "  inflating: /content/drive/My Drive/Testing/pituitary/Te-pi_0223.jpg  \n",
            "  inflating: /content/drive/My Drive/Testing/pituitary/Te-pi_0224.jpg  \n",
            "  inflating: /content/drive/My Drive/Testing/pituitary/Te-pi_0225.jpg  \n",
            "  inflating: /content/drive/My Drive/Testing/pituitary/Te-pi_0226.jpg  \n",
            "  inflating: /content/drive/My Drive/Testing/pituitary/Te-pi_0227.jpg  \n",
            "  inflating: /content/drive/My Drive/Testing/pituitary/Te-pi_0228.jpg  \n",
            "  inflating: /content/drive/My Drive/Testing/pituitary/Te-pi_0229.jpg  \n",
            "  inflating: /content/drive/My Drive/Testing/pituitary/Te-pi_0230.jpg  \n",
            "  inflating: /content/drive/My Drive/Testing/pituitary/Te-pi_0231.jpg  \n",
            "  inflating: /content/drive/My Drive/Testing/pituitary/Te-pi_0232.jpg  \n",
            "  inflating: /content/drive/My Drive/Testing/pituitary/Te-pi_0233.jpg  \n",
            "  inflating: /content/drive/My Drive/Testing/pituitary/Te-pi_0234.jpg  \n",
            "  inflating: /content/drive/My Drive/Testing/pituitary/Te-pi_0235.jpg  \n",
            "  inflating: /content/drive/My Drive/Testing/pituitary/Te-pi_0236.jpg  \n",
            "  inflating: /content/drive/My Drive/Testing/pituitary/Te-pi_0237.jpg  \n",
            "  inflating: /content/drive/My Drive/Testing/pituitary/Te-pi_0238.jpg  \n",
            "  inflating: /content/drive/My Drive/Testing/pituitary/Te-pi_0239.jpg  \n",
            "  inflating: /content/drive/My Drive/Testing/pituitary/Te-pi_0240.jpg  \n",
            "  inflating: /content/drive/My Drive/Testing/pituitary/Te-pi_0241.jpg  \n",
            "  inflating: /content/drive/My Drive/Testing/pituitary/Te-pi_0242.jpg  \n",
            "  inflating: /content/drive/My Drive/Testing/pituitary/Te-pi_0243.jpg  \n",
            "  inflating: /content/drive/My Drive/Testing/pituitary/Te-pi_0244.jpg  \n",
            "  inflating: /content/drive/My Drive/Testing/pituitary/Te-pi_0245.jpg  \n",
            "  inflating: /content/drive/My Drive/Testing/pituitary/Te-pi_0246.jpg  \n",
            "  inflating: /content/drive/My Drive/Testing/pituitary/Te-pi_0247.jpg  \n",
            "  inflating: /content/drive/My Drive/Testing/pituitary/Te-pi_0248.jpg  \n",
            "  inflating: /content/drive/My Drive/Testing/pituitary/Te-pi_0249.jpg  \n",
            "  inflating: /content/drive/My Drive/Testing/pituitary/Te-pi_0250.jpg  \n",
            "  inflating: /content/drive/My Drive/Testing/pituitary/Te-pi_0251.jpg  \n",
            "  inflating: /content/drive/My Drive/Testing/pituitary/Te-pi_0252.jpg  \n",
            "  inflating: /content/drive/My Drive/Testing/pituitary/Te-pi_0253.jpg  \n",
            "  inflating: /content/drive/My Drive/Testing/pituitary/Te-pi_0254.jpg  \n",
            "  inflating: /content/drive/My Drive/Testing/pituitary/Te-pi_0255.jpg  \n",
            "  inflating: /content/drive/My Drive/Testing/pituitary/Te-pi_0256.jpg  \n",
            "  inflating: /content/drive/My Drive/Testing/pituitary/Te-pi_0257.jpg  \n",
            "  inflating: /content/drive/My Drive/Testing/pituitary/Te-pi_0258.jpg  \n",
            "  inflating: /content/drive/My Drive/Testing/pituitary/Te-pi_0259.jpg  \n",
            "  inflating: /content/drive/My Drive/Testing/pituitary/Te-pi_0260.jpg  \n",
            "  inflating: /content/drive/My Drive/Testing/pituitary/Te-pi_0261.jpg  \n",
            "  inflating: /content/drive/My Drive/Testing/pituitary/Te-pi_0262.jpg  \n",
            "  inflating: /content/drive/My Drive/Testing/pituitary/Te-pi_0263.jpg  \n",
            "  inflating: /content/drive/My Drive/Testing/pituitary/Te-pi_0264.jpg  \n",
            "  inflating: /content/drive/My Drive/Testing/pituitary/Te-pi_0265.jpg  \n",
            "  inflating: /content/drive/My Drive/Testing/pituitary/Te-pi_0266.jpg  \n",
            "  inflating: /content/drive/My Drive/Testing/pituitary/Te-pi_0267.jpg  \n",
            "  inflating: /content/drive/My Drive/Testing/pituitary/Te-pi_0268.jpg  \n",
            "  inflating: /content/drive/My Drive/Testing/pituitary/Te-pi_0269.jpg  \n",
            "  inflating: /content/drive/My Drive/Testing/pituitary/Te-pi_0270.jpg  \n",
            "  inflating: /content/drive/My Drive/Testing/pituitary/Te-pi_0271.jpg  \n",
            "  inflating: /content/drive/My Drive/Testing/pituitary/Te-pi_0272.jpg  \n",
            " extracting: /content/drive/My Drive/Testing/pituitary/Te-pi_0273.jpg  \n",
            "  inflating: /content/drive/My Drive/Testing/pituitary/Te-pi_0274.jpg  \n",
            "  inflating: /content/drive/My Drive/Testing/pituitary/Te-pi_0275.jpg  \n",
            "  inflating: /content/drive/My Drive/Testing/pituitary/Te-pi_0276.jpg  \n",
            "  inflating: /content/drive/My Drive/Testing/pituitary/Te-pi_0277.jpg  \n",
            "  inflating: /content/drive/My Drive/Testing/pituitary/Te-pi_0278.jpg  \n",
            "  inflating: /content/drive/My Drive/Testing/pituitary/Te-pi_0279.jpg  \n",
            "  inflating: /content/drive/My Drive/Testing/pituitary/Te-pi_0280.jpg  \n",
            "  inflating: /content/drive/My Drive/Testing/pituitary/Te-pi_0281.jpg  \n",
            "  inflating: /content/drive/My Drive/Testing/pituitary/Te-pi_0282.jpg  \n",
            "  inflating: /content/drive/My Drive/Testing/pituitary/Te-pi_0283.jpg  \n",
            "  inflating: /content/drive/My Drive/Testing/pituitary/Te-pi_0284.jpg  \n",
            "  inflating: /content/drive/My Drive/Testing/pituitary/Te-pi_0285.jpg  \n",
            "  inflating: /content/drive/My Drive/Testing/pituitary/Te-pi_0286.jpg  \n",
            "  inflating: /content/drive/My Drive/Testing/pituitary/Te-pi_0287.jpg  \n",
            "  inflating: /content/drive/My Drive/Testing/pituitary/Te-pi_0288.jpg  \n",
            "  inflating: /content/drive/My Drive/Testing/pituitary/Te-pi_0289.jpg  \n",
            "  inflating: /content/drive/My Drive/Testing/pituitary/Te-pi_0290.jpg  \n",
            "  inflating: /content/drive/My Drive/Testing/pituitary/Te-pi_0291.jpg  \n",
            "  inflating: /content/drive/My Drive/Testing/pituitary/Te-pi_0292.jpg  \n",
            "  inflating: /content/drive/My Drive/Testing/pituitary/Te-pi_0293.jpg  \n",
            "  inflating: /content/drive/My Drive/Testing/pituitary/Te-pi_0294.jpg  \n",
            "  inflating: /content/drive/My Drive/Testing/pituitary/Te-pi_0295.jpg  \n",
            "  inflating: /content/drive/My Drive/Testing/pituitary/Te-pi_0296.jpg  \n",
            "  inflating: /content/drive/My Drive/Testing/pituitary/Te-pi_0297.jpg  \n",
            "  inflating: /content/drive/My Drive/Testing/pituitary/Te-pi_0298.jpg  \n",
            "  inflating: /content/drive/My Drive/Testing/pituitary/Te-pi_0299.jpg  \n",
            "  inflating: /content/drive/My Drive/Testing/pituitary/Te-piTr_0000.jpg  \n",
            "  inflating: /content/drive/My Drive/Testing/pituitary/Te-piTr_0001.jpg  \n",
            "  inflating: /content/drive/My Drive/Testing/pituitary/Te-piTr_0002.jpg  \n",
            "  inflating: /content/drive/My Drive/Testing/pituitary/Te-piTr_0003.jpg  \n",
            "  inflating: /content/drive/My Drive/Testing/pituitary/Te-piTr_0004.jpg  \n",
            "  inflating: /content/drive/My Drive/Testing/pituitary/Te-piTr_0005.jpg  \n",
            "  inflating: /content/drive/My Drive/Testing/pituitary/Te-piTr_0006.jpg  \n",
            "  inflating: /content/drive/My Drive/Testing/pituitary/Te-piTr_0007.jpg  \n",
            "  inflating: /content/drive/My Drive/Testing/pituitary/Te-piTr_0008.jpg  \n",
            "  inflating: /content/drive/My Drive/Testing/pituitary/Te-piTr_0009.jpg  \n"
          ]
        }
      ],
      "source": [
        "# !unzip \"/content/Testing.zip\" -d \"/content/drive/My Drive/\""
      ]
    },
    {
      "cell_type": "code",
      "execution_count": 28,
      "metadata": {
        "id": "DvRgR6ec7Gin"
      },
      "outputs": [],
      "source": [
        "import numpy as np\n",
        "import tensorflow as tf\n",
        "from tensorflow import keras\n",
        "from tensorflow.keras.models import Sequential, Model\n",
        "from tensorflow.keras.layers import Input, Conv2D, MaxPooling2D, concatenate, UpSampling2D, Dropout\n",
        "from tensorflow.keras.optimizers import Adam\n",
        "from tensorflow.keras.metrics import categorical_crossentropy\n",
        "from tensorflow.keras.applications.vgg16 import VGG16\n",
        "from tensorflow.keras.preprocessing.image import ImageDataGenerator"
      ]
    },
    {
      "cell_type": "code",
      "execution_count": 29,
      "metadata": {
        "id": "IEBdnNlJ2s39"
      },
      "outputs": [],
      "source": [
        "from sklearn.metrics import confusion_matrix\n",
        "import itertools\n",
        "import os\n",
        "import shutil\n",
        "import random\n",
        "import glob\n",
        "from matplotlib import pyplot as plt\n",
        "import warnings\n",
        "warnings.simplefilter(action='ignore',category=FutureWarning)\n",
        "%matplotlib inline"
      ]
    },
    {
      "cell_type": "code",
      "execution_count": 30,
      "metadata": {
        "colab": {
          "base_uri": "https://localhost:8080/"
        },
        "id": "FArnRKuY25BZ",
        "outputId": "d759f6b1-fd90-4a9f-f838-2ee4796631f4"
      },
      "outputs": [
        {
          "output_type": "stream",
          "name": "stdout",
          "text": [
            "Yes\n"
          ]
        }
      ],
      "source": [
        "if os.path.isdir('/content/drive/MyDrive/data/train/Glioma') is True:\n",
        "    print(\"Yes\")"
      ]
    },
    {
      "cell_type": "code",
      "execution_count": 31,
      "metadata": {
        "id": "eP38GdF1255S"
      },
      "outputs": [],
      "source": [
        "train_path = '/content/drive/MyDrive/data/train'\n",
        "val_path = '/content/drive/MyDrive/data/val'"
      ]
    },
    {
      "cell_type": "code",
      "execution_count": 32,
      "metadata": {
        "colab": {
          "base_uri": "https://localhost:8080/"
        },
        "id": "ZfQInhJs28T2",
        "outputId": "57a52802-6d60-49f5-bc46-2fa12cc7849a"
      },
      "outputs": [
        {
          "output_type": "stream",
          "name": "stdout",
          "text": [
            "Found 18398 images belonging to 3 classes.\n",
            "Found 828 images belonging to 3 classes.\n"
          ]
        }
      ],
      "source": [
        "#the preprocessig funviotn that is going to apply some preprocesing on the image before passing it to the model,\n",
        "#we are processing them in the same format as the VGG16 model takes in data\n",
        "train_batches = ImageDataGenerator(preprocessing_function=tf.keras.applications.vgg16.preprocess_input).flow_from_directory(directory=train_path,target_size=(256,256),classes=['Glioma','Meningioma','Pituitary_tumor'],batch_size=32)\n",
        "valid_batches = ImageDataGenerator(preprocessing_function=tf.keras.applications.vgg16.preprocess_input).flow_from_directory(directory=val_path,target_size=(256,256),classes=['Glioma','Meningioma','Pituitary_tumor'],batch_size=32)\n"
      ]
    },
    {
      "cell_type": "code",
      "execution_count": 33,
      "metadata": {
        "id": "Tm3nvUT43BG4"
      },
      "outputs": [],
      "source": [
        "assert train_batches.n == 18398\n",
        "assert valid_batches.n == 828\n",
        "assert train_batches.num_classes == valid_batches.num_classes == 3"
      ]
    },
    {
      "cell_type": "code",
      "execution_count": 37,
      "metadata": {
        "id": "VHEZBtod3I2r"
      },
      "outputs": [],
      "source": [
        "imgs,labels = next(train_batches)"
      ]
    },
    {
      "cell_type": "code",
      "execution_count": 38,
      "metadata": {
        "id": "IjmmyEaN3Lyx"
      },
      "outputs": [],
      "source": [
        "\n",
        "def plotImages(images_arr):\n",
        "    fig, axes = plt.subplots(1, 5, figsize=(20,20))\n",
        "    axes = axes.flatten()\n",
        "    for img, ax in zip(images_arr, axes):\n",
        "        ax.imshow(img)\n",
        "        ax.axis('off')\n",
        "    plt.tight_layout()\n",
        "    plt.show()\n"
      ]
    },
    {
      "cell_type": "code",
      "execution_count": 39,
      "metadata": {
        "colab": {
          "base_uri": "https://localhost:8080/",
          "height": 877
        },
        "id": "ZG0vKQdO3N0c",
        "outputId": "8c76c170-1424-42b8-f39f-a179635d6787"
      },
      "outputs": [
        {
          "output_type": "stream",
          "name": "stderr",
          "text": [
            "WARNING:matplotlib.image:Clipping input data to the valid range for imshow with RGB data ([0..1] for floats or [0..255] for integers).\n",
            "WARNING:matplotlib.image:Clipping input data to the valid range for imshow with RGB data ([0..1] for floats or [0..255] for integers).\n",
            "WARNING:matplotlib.image:Clipping input data to the valid range for imshow with RGB data ([0..1] for floats or [0..255] for integers).\n",
            "WARNING:matplotlib.image:Clipping input data to the valid range for imshow with RGB data ([0..1] for floats or [0..255] for integers).\n",
            "WARNING:matplotlib.image:Clipping input data to the valid range for imshow with RGB data ([0..1] for floats or [0..255] for integers).\n"
          ]
        },
        {
          "output_type": "display_data",
          "data": {
            "text/plain": [
              "<Figure size 1440x1440 with 5 Axes>"
            ],
            "image/png": "[encoded data removed]"
          },
          "metadata": {
            "needs_background": "light"
          }
        },
        {
          "output_type": "stream",
          "name": "stdout",
          "text": [
            "[[0. 1. 0.]\n",
            " [1. 0. 0.]\n",
            " [0. 1. 0.]\n",
            " [0. 1. 0.]\n",
            " [0. 0. 1.]\n",
            " [1. 0. 0.]\n",
            " [1. 0. 0.]\n",
            " [0. 1. 0.]\n",
            " [0. 0. 1.]\n",
            " [1. 0. 0.]\n",
            " [1. 0. 0.]\n",
            " [0. 0. 1.]\n",
            " [0. 1. 0.]\n",
            " [0. 0. 1.]\n",
            " [0. 1. 0.]\n",
            " [1. 0. 0.]\n",
            " [1. 0. 0.]\n",
            " [1. 0. 0.]\n",
            " [0. 0. 1.]\n",
            " [0. 1. 0.]\n",
            " [0. 1. 0.]\n",
            " [0. 1. 0.]\n",
            " [1. 0. 0.]\n",
            " [1. 0. 0.]\n",
            " [1. 0. 0.]\n",
            " [0. 0. 1.]\n",
            " [0. 0. 1.]\n",
            " [0. 0. 1.]\n",
            " [1. 0. 0.]\n",
            " [0. 0. 1.]\n",
            " [0. 1. 0.]\n",
            " [0. 1. 0.]]\n"
          ]
        }
      ],
      "source": [
        "plotImages(imgs)\n",
        "print(labels)"
      ]
    },
    {
      "cell_type": "code",
      "execution_count": 40,
      "metadata": {
        "id": "aHPng_5V3QEL"
      },
      "outputs": [],
      "source": [
        "from tensorflow.keras.applications import VGG16\n",
        "from tensorflow.keras.layers import *\n",
        "from tensorflow.keras.models import Model"
      ]
    },
    {
      "cell_type": "code",
      "execution_count": 41,
      "metadata": {
        "colab": {
          "base_uri": "https://localhost:8080/"
        },
        "id": "O6nXetuz3Rg1",
        "outputId": "cb7eb993-5be1-49dc-b69b-72cf95c35725"
      },
      "outputs": [
        {
          "output_type": "stream",
          "name": "stdout",
          "text": [
            "Downloading data from https://storage.googleapis.com/tensorflow/keras-applications/vgg16/vgg16_weights_tf_dim_ordering_tf_kernels_notop.h5\n",
            "58889256/58889256 [==============================] - 0s 0us/step\n"
          ]
        }
      ],
      "source": [
        "vgg16 = VGG16(weights='imagenet', include_top=False, input_shape=(256, 256, 3))"
      ]
    },
    {
      "cell_type": "code",
      "execution_count": 42,
      "metadata": {
        "id": "QnLZLPan3R9i"
      },
      "outputs": [],
      "source": [
        "for layer in vgg16.layers:\n",
        "    layer.trainable = False\n",
        "    \n",
        "#freezing all layers in pre-trained model"
      ]
    },
    {
      "cell_type": "code",
      "execution_count": 43,
      "metadata": {
        "id": "vnLuTCpu3Tjw"
      },
      "outputs": [],
      "source": [
        "x = Flatten()(vgg16.output)\n",
        "x = Dense(3, activation='softmax')(x)\n",
        "# ouput layer"
      ]
    },
    {
      "cell_type": "code",
      "execution_count": 44,
      "metadata": {
        "colab": {
          "base_uri": "https://localhost:8080/"
        },
        "id": "CctzqC2O3ZIu",
        "outputId": "b4e54f5c-3751-4019-b9ca-5cb814881cb6"
      },
      "outputs": [
        {
          "output_type": "stream",
          "name": "stdout",
          "text": [
            "Model: \"model\"\n",
            "_________________________________________________________________\n",
            " Layer (type)                Output Shape              Param #   \n",
            "=================================================================\n",
            " input_1 (InputLayer)        [(None, 256, 256, 3)]     0         \n",
            "                                                                 \n",
            " block1_conv1 (Conv2D)       (None, 256, 256, 64)      1792      \n",
            "                                                                 \n",
            " block1_conv2 (Conv2D)       (None, 256, 256, 64)      36928     \n",
            "                                                                 \n",
            " block1_pool (MaxPooling2D)  (None, 128, 128, 64)      0         \n",
            "                                                                 \n",
            " block2_conv1 (Conv2D)       (None, 128, 128, 128)     73856     \n",
            "                                                                 \n",
            " block2_conv2 (Conv2D)       (None, 128, 128, 128)     147584    \n",
            "                                                                 \n",
            " block2_pool (MaxPooling2D)  (None, 64, 64, 128)       0         \n",
            "                                                                 \n",
            " block3_conv1 (Conv2D)       (None, 64, 64, 256)       295168    \n",
            "                                                                 \n",
            " block3_conv2 (Conv2D)       (None, 64, 64, 256)       590080    \n",
            "                                                                 \n",
            " block3_conv3 (Conv2D)       (None, 64, 64, 256)       590080    \n",
            "                                                                 \n",
            " block3_pool (MaxPooling2D)  (None, 32, 32, 256)       0         \n",
            "                                                                 \n",
            " block4_conv1 (Conv2D)       (None, 32, 32, 512)       1180160   \n",
            "                                                                 \n",
            " block4_conv2 (Conv2D)       (None, 32, 32, 512)       2359808   \n",
            "                                                                 \n",
            " block4_conv3 (Conv2D)       (None, 32, 32, 512)       2359808   \n",
            "                                                                 \n",
            " block4_pool (MaxPooling2D)  (None, 16, 16, 512)       0         \n",
            "                                                                 \n",
            " block5_conv1 (Conv2D)       (None, 16, 16, 512)       2359808   \n",
            "                                                                 \n",
            " block5_conv2 (Conv2D)       (None, 16, 16, 512)       2359808   \n",
            "                                                                 \n",
            " block5_conv3 (Conv2D)       (None, 16, 16, 512)       2359808   \n",
            "                                                                 \n",
            " block5_pool (MaxPooling2D)  (None, 8, 8, 512)         0         \n",
            "                                                                 \n",
            " flatten (Flatten)           (None, 32768)             0         \n",
            "                                                                 \n",
            " dense (Dense)               (None, 3)                 98307     \n",
            "                                                                 \n",
            "=================================================================\n",
            "Total params: 14,812,995\n",
            "Trainable params: 98,307\n",
            "Non-trainable params: 14,714,688\n",
            "_________________________________________________________________\n"
          ]
        }
      ],
      "source": [
        "model = Model(inputs=vgg16.input, outputs=x)\n",
        "\n",
        "model.summary()"
      ]
    },
    {
      "cell_type": "code",
      "execution_count": 45,
      "metadata": {
        "id": "_oRF7hQn3hp9"
      },
      "outputs": [],
      "source": [
        "model.compile(optimizer=Adam(learning_rate=0.001), loss='categorical_crossentropy', metrics=['accuracy'])"
      ]
    },
    {
      "cell_type": "code",
      "execution_count": 46,
      "metadata": {
        "colab": {
          "base_uri": "https://localhost:8080/"
        },
        "id": "Ep16QD3P3kQG",
        "outputId": "3f56e6bf-4766-4f33-96cd-03f5dd97c459"
      },
      "outputs": [
        {
          "output_type": "stream",
          "name": "stdout",
          "text": [
            "Epoch 1/30\n",
            "575/575 - 203s - loss: 2.4116 - accuracy: 0.8705 - 203s/epoch - 354ms/step\n",
            "Epoch 2/30\n",
            "575/575 - 168s - loss: 1.0130 - accuracy: 0.9423 - 168s/epoch - 293ms/step\n",
            "Epoch 3/30\n",
            "575/575 - 167s - loss: 0.7846 - accuracy: 0.9578 - 167s/epoch - 290ms/step\n",
            "Epoch 4/30\n",
            "575/575 - 169s - loss: 0.6750 - accuracy: 0.9662 - 169s/epoch - 294ms/step\n",
            "Epoch 5/30\n",
            "575/575 - 176s - loss: 0.5614 - accuracy: 0.9712 - 176s/epoch - 306ms/step\n",
            "Epoch 6/30\n",
            "575/575 - 176s - loss: 0.5796 - accuracy: 0.9714 - 176s/epoch - 306ms/step\n",
            "Epoch 7/30\n",
            "575/575 - 177s - loss: 0.5732 - accuracy: 0.9748 - 177s/epoch - 308ms/step\n",
            "Epoch 8/30\n",
            "575/575 - 179s - loss: 0.6174 - accuracy: 0.9753 - 179s/epoch - 311ms/step\n",
            "Epoch 9/30\n",
            "575/575 - 181s - loss: 0.4860 - accuracy: 0.9794 - 181s/epoch - 315ms/step\n",
            "Epoch 10/30\n",
            "575/575 - 178s - loss: 0.5441 - accuracy: 0.9803 - 178s/epoch - 309ms/step\n",
            "Epoch 11/30\n",
            "575/575 - 171s - loss: 0.5421 - accuracy: 0.9826 - 171s/epoch - 297ms/step\n",
            "Epoch 12/30\n",
            "575/575 - 169s - loss: 0.4450 - accuracy: 0.9837 - 169s/epoch - 294ms/step\n",
            "Epoch 13/30\n",
            "575/575 - 169s - loss: 0.4979 - accuracy: 0.9830 - 169s/epoch - 294ms/step\n",
            "Epoch 14/30\n",
            "575/575 - 166s - loss: 0.4978 - accuracy: 0.9852 - 166s/epoch - 288ms/step\n",
            "Epoch 15/30\n",
            "575/575 - 166s - loss: 0.4417 - accuracy: 0.9849 - 166s/epoch - 289ms/step\n",
            "Epoch 16/30\n",
            "575/575 - 158s - loss: 0.4698 - accuracy: 0.9857 - 158s/epoch - 275ms/step\n",
            "Epoch 17/30\n",
            "575/575 - 167s - loss: 0.5224 - accuracy: 0.9857 - 167s/epoch - 291ms/step\n",
            "Epoch 18/30\n",
            "575/575 - 167s - loss: 0.4370 - accuracy: 0.9881 - 167s/epoch - 291ms/step\n",
            "Epoch 19/30\n",
            "575/575 - 162s - loss: 0.3381 - accuracy: 0.9883 - 162s/epoch - 283ms/step\n",
            "Epoch 20/30\n",
            "575/575 - 160s - loss: 0.3906 - accuracy: 0.9886 - 160s/epoch - 279ms/step\n",
            "Epoch 21/30\n",
            "575/575 - 165s - loss: 0.3812 - accuracy: 0.9883 - 165s/epoch - 287ms/step\n",
            "Epoch 22/30\n",
            "575/575 - 163s - loss: 0.5197 - accuracy: 0.9870 - 163s/epoch - 284ms/step\n",
            "Epoch 23/30\n",
            "575/575 - 162s - loss: 0.4463 - accuracy: 0.9905 - 162s/epoch - 281ms/step\n",
            "Epoch 24/30\n",
            "575/575 - 162s - loss: 0.2289 - accuracy: 0.9902 - 162s/epoch - 281ms/step\n",
            "Epoch 25/30\n",
            "575/575 - 163s - loss: 0.5148 - accuracy: 0.9898 - 163s/epoch - 283ms/step\n",
            "Epoch 26/30\n",
            "575/575 - 164s - loss: 0.3626 - accuracy: 0.9894 - 164s/epoch - 285ms/step\n",
            "Epoch 27/30\n",
            "575/575 - 159s - loss: 0.4553 - accuracy: 0.9906 - 159s/epoch - 276ms/step\n",
            "Epoch 28/30\n",
            "575/575 - 158s - loss: 0.4901 - accuracy: 0.9888 - 158s/epoch - 275ms/step\n",
            "Epoch 29/30\n",
            "575/575 - 171s - loss: 0.4427 - accuracy: 0.9909 - 171s/epoch - 297ms/step\n",
            "Epoch 30/30\n",
            "575/575 - 175s - loss: 0.3227 - accuracy: 0.9909 - 175s/epoch - 304ms/step\n"
          ]
        },
        {
          "output_type": "execute_result",
          "data": {
            "text/plain": [
              "<keras.callbacks.History at 0x7fe1cb7393d0>"
            ]
          },
          "metadata": {},
          "execution_count": 46
        }
      ],
      "source": [
        "model.fit(train_batches, epochs=30,verbose=2)"
      ]
    },
    {
      "cell_type": "code",
      "execution_count": 47,
      "metadata": {
        "colab": {
          "base_uri": "https://localhost:8080/"
        },
        "id": "XT6zcrIQIIHp",
        "outputId": "64b6e1af-c21c-4413-a3d3-d93ccd61e71e"
      },
      "outputs": [
        {
          "output_type": "stream",
          "name": "stdout",
          "text": [
            "26/26 [==============================] - 164s 7s/step - loss: 11.3105 - accuracy: 0.9372\n",
            "Validation Loss: 11.310506820678711\n",
            "Validation Accuracy: 0.9371980428695679\n"
          ]
        }
      ],
      "source": [
        "val_loss, val_acc = model.evaluate(valid_batches)\n",
        "print(\"Validation Loss:\", val_loss)\n",
        "print(\"Validation Accuracy:\", val_acc)"
      ]
    },
    {
      "cell_type": "code",
      "execution_count": 48,
      "metadata": {
        "colab": {
          "base_uri": "https://localhost:8080/"
        },
        "id": "IeCHs2ZqISzY",
        "outputId": "4816b92f-15aa-404f-8a76-35d422acf76c"
      },
      "outputs": [
        {
          "output_type": "stream",
          "name": "stderr",
          "text": [
            "WARNING:absl:Found untraced functions such as _jit_compiled_convolution_op, _jit_compiled_convolution_op, _jit_compiled_convolution_op, _jit_compiled_convolution_op, _jit_compiled_convolution_op while saving (showing 5 of 13). These functions will not be directly callable after loading.\n"
          ]
        }
      ],
      "source": [
        "model.save('/content/', 'VGG16')"
      ]
    },
    {
      "cell_type": "code",
      "execution_count": 51,
      "metadata": {
        "id": "vnefQJujI52t"
      },
      "outputs": [],
      "source": [
        "from tensorflow.keras.models import load_model\n",
        "import os.path\n",
        "\n",
        "if os.path.isfile('/content/medical_trial_brain.h5') is False:\n",
        "  model.save('/content/medical_trial_brain.h5')\n",
        "\n",
        "\n",
        "new_model = load_model('/content/medical_trial_brain.h5')"
      ]
    },
    {
      "cell_type": "code",
      "execution_count": 53,
      "metadata": {
        "id": "E_B0zSxFSidy"
      },
      "outputs": [],
      "source": [
        "# Test dataset path\n",
        "test_path = '/content/drive/MyDrive/Testing'"
      ]
    },
    {
      "cell_type": "code",
      "execution_count": 63,
      "metadata": {
        "colab": {
          "base_uri": "https://localhost:8080/"
        },
        "id": "wZAbqrrJS4n-",
        "outputId": "45e84b51-2ced-4878-fe48-e30c9a03dbd3"
      },
      "outputs": [
        {
          "output_type": "stream",
          "name": "stdout",
          "text": [
            "Found 4117 images belonging to 3 classes.\n"
          ]
        }
      ],
      "source": [
        "test_batches = ImageDataGenerator(preprocessing_function=tf.keras.applications.vgg16.preprocess_input).flow_from_directory(directory=test_path,target_size=(265,256),classes=['Glioma','Meningioma','Pituitary_tumor'],batch_size=32)"
      ]
    },
    {
      "cell_type": "code",
      "execution_count": 64,
      "metadata": {
        "colab": {
          "base_uri": "https://localhost:8080/"
        },
        "id": "faRIwZ4JSNOS",
        "outputId": "e53063e9-e1f5-4d5d-fa7c-823590a1f1a0"
      },
      "outputs": [
        {
          "output_type": "stream",
          "name": "stdout",
          "text": [
            "129/129 [==============================] - 36s 252ms/step\n",
            "Predictions: [[0. 1. 0.]\n",
            " [0. 0. 1.]\n",
            " [0. 0. 1.]\n",
            " ...\n",
            " [0. 0. 1.]\n",
            " [0. 0. 1.]\n",
            " [0. 1. 0.]]\n",
            "Ground Truth Labels: [0 0 0 ... 2 2 2]\n"
          ]
        }
      ],
      "source": [
        "# Testing model\n",
        "predictions = model.predict(test_batches)\n",
        "print(\"Predictions:\", predictions)\n",
        "print(\"Ground Truth Labels:\", test_batches.classes)"
      ]
    },
    {
      "cell_type": "code",
      "execution_count": 56,
      "metadata": {
        "colab": {
          "base_uri": "https://localhost:8080/"
        },
        "id": "06SPWSu0Xgjj",
        "outputId": "7115233b-5c0a-4b12-b654-8d3ba13dfe15"
      },
      "outputs": [
        {
          "output_type": "stream",
          "name": "stdout",
          "text": [
            "3\n",
            "{'Glioma': 0, 'Meningioma': 1, 'Pituitary_tumor': 2}\n"
          ]
        }
      ],
      "source": [
        "print(test_batches.num_classes)\n",
        "print(test_batches.class_indices)\n",
        "assert test_batches.num_classes == 3"
      ]
    },
    {
      "cell_type": "code",
      "execution_count": 57,
      "metadata": {
        "colab": {
          "base_uri": "https://localhost:8080/"
        },
        "id": "ekJJVMMGYxdy",
        "outputId": "a8eace8d-f280-43e3-b3ea-52740e36f4f0"
      },
      "outputs": [
        {
          "output_type": "execute_result",
          "data": {
            "text/plain": [
              "array([0, 1, 2], dtype=int32)"
            ]
          },
          "metadata": {},
          "execution_count": 57
        }
      ],
      "source": [
        "np.unique(test_batches.classes)"
      ]
    },
    {
      "cell_type": "code",
      "execution_count": 58,
      "metadata": {
        "colab": {
          "base_uri": "https://localhost:8080/"
        },
        "id": "LBZLq6ooWjZ4",
        "outputId": "586b558d-c75e-49b0-e71d-14904db73a6d"
      },
      "outputs": [
        {
          "output_type": "stream",
          "name": "stdout",
          "text": [
            "[0 0 0 ... 2 2 2]\n"
          ]
        }
      ],
      "source": [
        "print(ytest)"
      ]
    },
    {
      "cell_type": "code",
      "execution_count": null,
      "metadata": {
        "id": "GgbirPEqUMH-"
      },
      "outputs": [],
      "source": [
        "# import seaborn as sns\n",
        "# # Creating  a confusion matrix,which compares the y_test and y_pred\n",
        "# cm = confusion_matrix(test_batches.classes, predictions)\n",
        "# # Creating a dataframe for a array-formatted Confusion matrix,so it will be easy for plotting.\n",
        "# cm_df = pd.DataFrame(cm,\n",
        "#                      index = ['Glioma','Pituitory_tumor ','Meningioma'], \n",
        "#                      columns = ['Glioma','Pituitory_tumor ','Meningioma'])\n",
        "# #Plotting the confusion matrix\n",
        "# plt.figure(figsize=(5,4))\n",
        "# sns.heatmap(cm_df, annot=True)\n",
        "# plt.title('Confusion Matrix')\n",
        "# plt.ylabel('Actal Values')\n",
        "# plt.xlabel('Predicted Values')\n",
        "# plt.show()\n",
        "# print(\"Confusion Matrix:\\n\", cm)"
      ]
    },
    {
      "cell_type": "code",
      "execution_count": 65,
      "metadata": {
        "id": "XM9Toar7uBeB"
      },
      "outputs": [],
      "source": [
        "rounded_predictions = np.argmax(predictions,axis=1)\n",
        "# print(test_batches[0][0])"
      ]
    },
    {
      "cell_type": "code",
      "execution_count": 66,
      "metadata": {
        "colab": {
          "base_uri": "https://localhost:8080/"
        },
        "id": "InYNgoaqWWjR",
        "outputId": "d8dd9e1d-e988-4e75-c4f5-aa672b5abc10"
      },
      "outputs": [
        {
          "output_type": "stream",
          "name": "stdout",
          "text": [
            "129/129 [==============================] - 29s 221ms/step - loss: 29.1368 - accuracy: 0.9174\n"
          ]
        }
      ],
      "source": [
        "loss, accuracy = model.evaluate(test_batches)"
      ]
    },
    {
      "cell_type": "code",
      "execution_count": 67,
      "metadata": {
        "colab": {
          "base_uri": "https://localhost:8080/"
        },
        "id": "uorKxU_ps0Hq",
        "outputId": "7d11b237-93a6-443b-93eb-090d4bab3041"
      },
      "outputs": [
        {
          "output_type": "stream",
          "name": "stdout",
          "text": [
            "loss:  29.136837005615234\n",
            "accuracy:  0.9174156188964844\n"
          ]
        }
      ],
      "source": [
        "print(\"loss: \", loss)\n",
        "print(\"accuracy: \",  accuracy)"
      ]
    },
    {
      "cell_type": "code",
      "execution_count": 68,
      "metadata": {
        "colab": {
          "base_uri": "https://localhost:8080/"
        },
        "id": "WXxwlwsstKg_",
        "outputId": "e9e61687-0026-45b9-9ea2-957e645c8480"
      },
      "outputs": [
        {
          "output_type": "execute_result",
          "data": {
            "text/plain": [
              "1"
            ]
          },
          "metadata": {},
          "execution_count": 68
        }
      ],
      "source": [
        "test_batches.classes.ndim"
      ]
    },
    {
      "cell_type": "code",
      "execution_count": 69,
      "metadata": {
        "colab": {
          "base_uri": "https://localhost:8080/"
        },
        "id": "NyZIQ5pztOzS",
        "outputId": "23438c23-7fdf-4e96-b09e-5ec116fa9d9b"
      },
      "outputs": [
        {
          "output_type": "stream",
          "name": "stdout",
          "text": [
            "              precision    recall  f1-score   support\n",
            "\n",
            "           0       0.33      0.32      0.32      1321\n",
            "           1       0.33      0.32      0.33      1339\n",
            "           2       0.35      0.39      0.37      1457\n",
            "\n",
            "    accuracy                           0.34      4117\n",
            "   macro avg       0.34      0.34      0.34      4117\n",
            "weighted avg       0.34      0.34      0.34      4117\n",
            "\n"
          ]
        }
      ],
      "source": [
        "from sklearn.metrics import classification_report\n",
        "y_pred = np.argmax(predictions, axis=1)\n",
        "\n",
        "# Get the true class labels\n",
        "y_true = test_batches.classes\n",
        "\n",
        "print(classification_report(y_true, y_pred))"
      ]
    },
    {
      "cell_type": "code",
      "execution_count": 70,
      "metadata": {
        "colab": {
          "base_uri": "https://localhost:8080/",
          "height": 365
        },
        "id": "j_HzOTPA3S4n",
        "outputId": "1985af56-c724-4075-cfd7-5e855b3c44dd"
      },
      "outputs": [
        {
          "output_type": "display_data",
          "data": {
            "text/plain": [
              "<Figure size 360x288 with 2 Axes>"
            ],
            "image/png": "[encoded data removed]"
          },
          "metadata": {
            "needs_background": "light"
          }
        },
        {
          "output_type": "stream",
          "name": "stdout",
          "text": [
            "Confusion Matrix:\n",
            " [[417 409 495]\n",
            " [381 426 532]\n",
            " [449 447 561]]\n"
          ]
        }
      ],
      "source": [
        "preds_classes = np.argmax(predictions, axis=1)\n",
        "\n",
        "# Get the true class indices\n",
        "true_classes = test_batches.classes\n",
        "\n",
        "# Get the class labels\n",
        "class_labels = list(test_batches.class_indices.keys())\n",
        "cm = confusion_matrix(true_classes, preds_classes)\n",
        "\n",
        "cm_df = pd.DataFrame(cm,\n",
        "                     index = ['Glioma','Pituitory_tumor ','Meningioma'], \n",
        "                     columns = ['Glioma','Pituitory_tumor ','Meningioma'])\n",
        "\n",
        "\n",
        "plt.figure(figsize=(5,4))\n",
        "sns.heatmap(cm_df, annot=True)\n",
        "plt.title('Confusion Matrix')\n",
        "plt.ylabel('Actal Values')\n",
        "plt.xlabel('Predicted Values')\n",
        "plt.show()\n",
        "print(\"Confusion Matrix:\\n\", cm)"
      ]
    }
  ],
  "metadata": {
    "accelerator": "GPU",
    "colab": {
      "provenance": [],
      "include_colab_link": true
    },
    "gpuClass": "standard",
    "kernelspec": {
      "display_name": "Python 3",
      "name": "python3"
    },
    "language_info": {
      "name": "python"
    }
  },
  "nbformat": 4,
  "nbformat_minor": 0
}